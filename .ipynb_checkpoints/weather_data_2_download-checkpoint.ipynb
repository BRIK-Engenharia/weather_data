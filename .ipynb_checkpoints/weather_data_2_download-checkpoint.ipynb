{
 "cells": [
  {
   "cell_type": "markdown",
   "metadata": {
    "toc": "true"
   },
   "source": [
    "# Table of Contents\n",
    " <p><div class=\"lev1\"><a href=\"#How-to-obtain-weather-data-from-MERRA-2-(Part-2):-Download-raw-data\"><span class=\"toc-item-num\">1&nbsp;&nbsp;</span>How to obtain weather data from MERRA-2 (Part 2): Download raw data</a></div><div class=\"lev2\"><a href=\"#About-this-Notebook\"><span class=\"toc-item-num\">1.1&nbsp;&nbsp;</span>About this Notebook</a></div><div class=\"lev3\"><a href=\"#Other-notebooks\"><span class=\"toc-item-num\">1.1.1&nbsp;&nbsp;</span>Other notebooks</a></div><div class=\"lev3\"><a href=\"#License\"><span class=\"toc-item-num\">1.1.2&nbsp;&nbsp;</span>License</a></div><div class=\"lev3\"><a href=\"#Table-of-contents\"><span class=\"toc-item-num\">1.1.3&nbsp;&nbsp;</span>Table of contents</a></div><div class=\"lev1\"><a href=\"#Script-Setup\"><span class=\"toc-item-num\">2&nbsp;&nbsp;</span>Script Setup</a></div><div class=\"lev1\"><a href=\"#Download-raw-data\"><span class=\"toc-item-num\">3&nbsp;&nbsp;</span>Download raw data</a></div><div class=\"lev2\"><a href=\"#Input\"><span class=\"toc-item-num\">3.1&nbsp;&nbsp;</span>Input</a></div><div class=\"lev3\"><a href=\"#Parameters-choices\"><span class=\"toc-item-num\">3.1.1&nbsp;&nbsp;</span>Parameters choices</a></div><div class=\"lev3\"><a href=\"#Timeframe\"><span class=\"toc-item-num\">3.1.2&nbsp;&nbsp;</span>Timeframe</a></div><div class=\"lev3\"><a href=\"#Geography-coordinates\"><span class=\"toc-item-num\">3.1.3&nbsp;&nbsp;</span>Geography coordinates</a></div><div class=\"lev2\"><a href=\"#Subsetting-data\"><span class=\"toc-item-num\">3.2&nbsp;&nbsp;</span>Subsetting data</a></div><div class=\"lev2\"><a href=\"#Downloading-data\"><span class=\"toc-item-num\">3.3&nbsp;&nbsp;</span>Downloading data</a></div><div class=\"lev1\"><a href=\"#Setting-up-dataframe(s)\"><span class=\"toc-item-num\">4&nbsp;&nbsp;</span>Setting up dataframe(s)</a></div><div class=\"lev2\"><a href=\"#Concatenating/combining-individual-files\"><span class=\"toc-item-num\">4.1&nbsp;&nbsp;</span>Concatenating/combining individual files</a></div><div class=\"lev2\"><a href=\"#First-look-at-the-final-data-frame-structure-and-format\"><span class=\"toc-item-num\">4.2&nbsp;&nbsp;</span>First look at the final data frame structure and format</a></div><div class=\"lev2\"><a href=\"#Saving-dataframe\"><span class=\"toc-item-num\">4.3&nbsp;&nbsp;</span>Saving dataframe</a></div>"
   ]
  },
  {
   "cell_type": "markdown",
   "metadata": {},
   "source": [
    "# How to obtain weather data from MERRA-2 (Part 2): Download raw data"
   ]
  },
  {
   "cell_type": "markdown",
   "metadata": {},
   "source": [
    "## About this Notebook\n",
    "This Jupyter Notebook is part of the [Open Power System Data Project](http://www.open-power-system-data.org) and is written in Python 3. \n",
    "\n",
    "This is **Part 2** of the notebook. It aims to download data from the MERRRA-2 weather dataset.\n",
    "\n",
    "---\n",
    "\n",
    "### Other notebooks\n",
    "**Part 1**: Introduction\n",
    "\n",
    "**Part 3**: Processing raw data and compiling the data package\n",
    "\n",
    "### License\n",
    "\n",
    "This notebook is published under [The MIT License](https://opensource.org/licenses/mit-license.php) license:\n",
    "\n",
    "Copyright (c) 2016 [copyright holders]\n",
    "\n",
    "Permission is hereby granted, free of charge, to any person obtaining a copy of this software and associated documentation files (the \"Software\"), to deal in the Software without restriction, including without limitation the rights to use, copy, modify, merge, publish, distribute, sublicense, and/or sell copies of the Software, and to permit persons to whom the Software is furnished to do so, subject to the following conditions:\n",
    "\n",
    "The above copyright notice and this permission notice shall be included in all copies or substantial portions of the Software.\n",
    "\n",
    "THE SOFTWARE IS PROVIDED \"AS IS\", WITHOUT WARRANTY OF ANY KIND, EXPRESS OR IMPLIED, INCLUDING BUT NOT LIMITED TO THE WARRANTIES OF MERCHANTABILITY, FITNESS FOR A PARTICULAR PURPOSE AND NONINFRINGEMENT. IN NO EVENT SHALL THE AUTHORS OR COPYRIGHT HOLDERS BE LIABLE FOR ANY CLAIM, DAMAGES OR OTHER LIABILITY, WHETHER IN AN ACTION OF CONTRACT, TORT OR OTHERWISE, ARISING FROM, OUT OF OR IN CONNECTION WITH THE SOFTWARE OR THE USE OR OTHER DEALINGS IN THE SOFTWARE.\n",
    "\n",
    "### Table of contents\n",
    " <p><div class=\"lev2\"><a href=\"#About-this-Notebook\"><span class=\"toc-item-num\">1.1&nbsp;&nbsp;</span>About this Notebook</a></div><div class=\"lev3\"><a href=\"#Other-notebooks\"><span class=\"toc-item-num\">1.1.1&nbsp;&nbsp;</span>Other notebooks</a></div><div class=\"lev3\"><a href=\"#License\"><span class=\"toc-item-num\">1.1.2&nbsp;&nbsp;</span>License</a></div><div class=\"lev3\"><a href=\"#Table-of-contents\"><span class=\"toc-item-num\">1.1.3&nbsp;&nbsp;</span>Table of contents</a></div><div class=\"lev1\"><a href=\"#Script-Setup\"><span class=\"toc-item-num\">2&nbsp;&nbsp;</span>Script Setup</a></div><div class=\"lev1\"><a href=\"#Download-raw-data\"><span class=\"toc-item-num\">3&nbsp;&nbsp;</span>Download raw data</a></div><div class=\"lev2\"><a href=\"#Input\"><span class=\"toc-item-num\">3.1&nbsp;&nbsp;</span>Input</a></div><div class=\"lev3\"><a href=\"#Parameters-choices\"><span class=\"toc-item-num\">3.1.1&nbsp;&nbsp;</span>Parameters choices</a></div><div class=\"lev3\"><a href=\"#Timeframe\"><span class=\"toc-item-num\">3.1.2&nbsp;&nbsp;</span>Timeframe</a></div><div class=\"lev3\"><a href=\"#Geography-coordinates\"><span class=\"toc-item-num\">3.1.3&nbsp;&nbsp;</span>Geography coordinates</a></div><div class=\"lev2\"><a href=\"#Subsetting-data\"><span class=\"toc-item-num\">3.2&nbsp;&nbsp;</span>Subsetting data</a></div><div class=\"lev2\"><a href=\"#Downloading-data\"><span class=\"toc-item-num\">3.3&nbsp;&nbsp;</span>Downloading data</a></div><div class=\"lev1\"><a href=\"#Setting-up-dataframe(s)\"><span class=\"toc-item-num\">4&nbsp;&nbsp;</span>Setting up dataframe(s)</a></div><div class=\"lev2\"><a href=\"#Concatenating/combining-individual-files\"><span class=\"toc-item-num\">4.1&nbsp;&nbsp;</span>Concatenating/combining individual files</a></div><div class=\"lev2\"><a href=\"#First-look-at-the-final-data-frame-structure-and-format\"><span class=\"toc-item-num\">4.2&nbsp;&nbsp;</span>First look at the final data frame structure and format</a></div><div class=\"lev2\"><a href=\"#Saving-dataframe\"><span class=\"toc-item-num\">4.3&nbsp;&nbsp;</span>Saving dataframe</a></div>\n",
    " \n",
    "***"
   ]
  },
  {
   "cell_type": "markdown",
   "metadata": {
    "collapsed": true
   },
   "source": [
    "# Script Setup"
   ]
  },
  {
   "cell_type": "code",
   "execution_count": null,
   "metadata": {
    "collapsed": false
   },
   "outputs": [],
   "source": [
    "# importing all necessary Python libraries for this Script\n",
    "import pandas as pd\n",
    "import xarray as xr\n",
    "import requests\n",
    "import logging\n",
    "import os\n",
    "from datetime import datetime\n",
    "from calendar import monthrange\n",
    "from opendap_download.multi_processing_download import DownloadManager\n",
    "import math\n",
    "from functools import partial\n",
    "import re\n",
    "\n",
    "# Set up a log\n",
    "logging.basicConfig(level=logging.DEBUG, handlers=[logging.StreamHandler()])\n",
    "log = logging.getLogger('notebook')\n",
    "# nb_root_logger = logging.getLogger()\n",
    "# formatter = logging.Formatter('%(asctime)s - %(name)s - %(levelname)s'\\\n",
    "#                               '- %(message)s',datefmt='%d %b %Y %H:%M:%S')\n",
    "# nb_root_logger.handlers[0].setFormatter(formatter)"
   ]
  },
  {
   "cell_type": "markdown",
   "metadata": {
    "collapsed": true
   },
   "source": [
    "---\n",
    "# Download raw data"
   ]
  },
  {
   "cell_type": "markdown",
   "metadata": {
    "collapsed": true
   },
   "source": [
    "## Input\n",
    "### Parameters choices\n",
    "Definition of Input parameters for creating URL with OPeNDAP. Which parameters shall be included in the weather data package?\n",
    "\n",
    "**general parameters**\n",
    "- tavg1_2d_slv_Nx = M2T1NXSLV:\n",
    "  - H850: Height at 850 hPa\n",
    "  - H500: Height at 500 hPa\n",
    "  - H250: Height at 250 hPa\n",
    "  - DISPH: Displacement height\n",
    "  - ftp://goldsmr4.sci.gsfc.nasa.gov/data/s4pa/MERRA2/M2T1NXSLV.5.12.4/\n",
    "  - via OPenDAP: http://goldsmr4.sci.gsfc.nasa.gov/opendap/MERRA2/M2T1NXSLV.5.12.4/contents.html\n",
    "  \n",
    "**Wind Speed** \n",
    "- tavg1_2d_slv_Nx = M2T1NXSLV\n",
    "  - U2M: Eastward wind at 2 m above displacement height\n",
    "  - U10M: Eastward wind at 10 m above displacement height\n",
    "  - U50M: Eastward wind at 50 m above surface\n",
    "  - U850: Eastward wind at 850 hPa\n",
    "  - U500: Eastward wind at 500 hPa\n",
    "  - U250: Eastward wind at 250 hPa\n",
    "  - V2M: Northward wind at 2 m above displacement height\n",
    "  - V10M: Northward wind at 10 m above displacement height\n",
    "  - V50M: Northward wind at 50 m above surface\n",
    "  - V850: Northward wind at 850 hPa\n",
    "  - V500: Northward wind at 500 hPa\n",
    "  - V250: Northward wind at 250 hPa\n",
    "  - ftp://goldsmr4.sci.gsfc.nasa.gov/data/s4pa/MERRA2/M2T1NXSLV.5.12.4/\n",
    "  - via OPenDAP: http://goldsmr4.sci.gsfc.nasa.gov/opendap/MERRA2/M2T1NXSLV.5.12.4/contents.html\n",
    "  \n",
    "- tavg1_2d_flx_Nx = M2T1NXFLX:\n",
    "  - Z0M: Roughness length, momentum\n",
    "  - ftp://goldsmr4.sci.gsfc.nasa.gov/data/s4pa/MERRA2/M2T1NXFLX.5.12.4/\n",
    "  - via OPenDAP: http://goldsmr4.sci.gsfc.nasa.gov/opendap/MERRA2/M2T1NXFLX.5.12.4/contents.html\n",
    "\n",
    "später: **Temperature** (tavg1_2d_slv_Nx = M2T1NXSLV)\n",
    "- TS: Surface skin temperature\n",
    "- T2M Temperature at 2 m above the displacement height\n",
    "- T10M: Temperature at 10 m above the displacement height\n",
    "- T850: Temperature at 850 hPa\n",
    "- T500: Temperature at 500 hPa\n",
    "- T250: Temperature at 250 hPa\n",
    "- ftp://goldsmr4.sci.gsfc.nasa.gov/data/s4pa/MERRA2/M2T1NXSLV.5.12.4/\n",
    "- via OPenDAP: http://goldsmr4.sci.gsfc.nasa.gov/opendap/MERRA2/M2T1NXSLV.5.12.4/contents.html\n",
    "\n",
    "später: **Solar Radiation** (tavg1_2d_rad_Nx = M2T1NXRAD)\n",
    "- SWGDN: Surface incident shortwave flux (incident = einfallender Strahl)\n",
    "- SWGDNCLR: Surface incident shortwave flux assuming clear sky\n",
    "- SWGNT: Surface net downward shortwave flux\n",
    "- SWGNTCLR: Surface net downward shortwave flux assuming clear sky\n",
    "- SWGNTCLN: Surface net downward shortwave flux assuming clean sky\n",
    "- SWGNTCLRCLN: Surface net downward shortwave flux assuming clear clean sky\n",
    "- SWTDN: top-of-atmosphere incoming shortwave flux\n",
    "- _possibly more_\n",
    "- ftp://goldsmr4.sci.gsfc.nasa.gov/data/s4pa/MERRA2/M2T1NXRAD.5.12.4/\n",
    "- via OPenDAP: http://goldsmr4.sci.gsfc.nasa.gov/opendap/MERRA2/M2T1NXRAD.5.12.4/contents.html"
   ]
  },
  {
   "cell_type": "markdown",
   "metadata": {},
   "source": [
    "### Parameter selection \n",
    "These are the possible parameters:\n",
    "* wind\n",
    "* solar radiation\n",
    "* temperature\n",
    "\n",
    "If you want to select more than one parameter, separate them with commas. For example: wind, solar radiation, temperature"
   ]
  },
  {
   "cell_type": "code",
   "execution_count": null,
   "metadata": {
    "ExecuteTime": {
     "end_time": "2016-07-12T17:02:07.640325",
     "start_time": "2016-07-12T17:02:07.584319"
    },
    "collapsed": false,
    "scrolled": true
   },
   "outputs": [],
   "source": [
    "# Getting user input\n",
    "possible_params = ['wind', 'solar radiation', 'temperature']\n",
    "\n",
    "def test_user_input(para):\n",
    "    '''Tests if too few or too many parameters are provided \n",
    "    and if the parameters are legit.'''\n",
    "    if len(para) < 1 or len(para) > 3:\n",
    "        return False\n",
    "    for p in para:\n",
    "        if p not in possible_params:\n",
    "            return False\n",
    "        else: \n",
    "            pass\n",
    "    return True\n",
    "\n",
    "\n",
    "# params = input('Please provide atleast one parameter: ')\n",
    "# params = params.split(',')\n",
    "# removes whitespace in front of the provided parameters.\n",
    "# params = [p.lstrip() for p in params]\n",
    "    \n",
    "# if not test_user_input(params):\n",
    "#    raise Exception('Something is wrong with the provided parameters: '+str(params))\n",
    "# params\n",
    "\n",
    "# for testing\n",
    "params = ['wind']"
   ]
  },
  {
   "cell_type": "code",
   "execution_count": null,
   "metadata": {
    "collapsed": true
   },
   "outputs": [],
   "source": [
    "# \"translation\" of input to list of needed dataset parameters (see above)\n",
    "# download general parameters always\n",
    "# download other parameters/datasets only when needed (see list above)\n",
    "\n"
   ]
  },
  {
   "cell_type": "markdown",
   "metadata": {},
   "source": [
    "### Timeframe\n",
    "\n",
    "Definition of desired timespan data is needed for. (Optional: daily, monthly, yearly aggregation)"
   ]
  },
  {
   "cell_type": "code",
   "execution_count": null,
   "metadata": {
    "collapsed": false
   },
   "outputs": [],
   "source": [
    "# TODO: User input \n",
    "# User input of timespan\n",
    "download_year = 2014 # Testcase Schlewswig Holstein, 2014, hourly data\n",
    "download_month = '01'\n",
    "download_day = '01'"
   ]
  },
  {
   "cell_type": "markdown",
   "metadata": {},
   "source": [
    "### Geography coordinates\n",
    "Definition of desired coordinates (rectangular area) data is needed for -> corner coordinates input"
   ]
  },
  {
   "cell_type": "code",
   "execution_count": null,
   "metadata": {
    "ExecuteTime": {
     "end_time": "2016-07-12T17:24:14.539011",
     "start_time": "2016-07-12T17:24:14.526010"
    },
    "collapsed": true
   },
   "outputs": [],
   "source": [
    "# User input of coordinates\n",
    "# ------\n",
    "# Bsp. Schleswig-Holstein (lat/lon in WGS84 Dezimalgrad)\n",
    "# Nordost-Punkt; 55,036823°N, 11,349297°E\n",
    "# Südwest-Punkt; 53,366266°N, 7,887088°E\n",
    "\n",
    "# one point example - not in use\n",
    "lat = 0\n",
    "lon = 0"
   ]
  },
  {
   "cell_type": "markdown",
   "metadata": {
    "collapsed": true
   },
   "source": [
    "## Subsetting data"
   ]
  },
  {
   "cell_type": "markdown",
   "metadata": {
    "collapsed": true
   },
   "source": [
    "Combining parameter choices above/translation according to OPenDAP guidelines into URL-appendix"
   ]
  },
  {
   "cell_type": "code",
   "execution_count": null,
   "metadata": {
    "collapsed": false,
    "scrolled": true
   },
   "outputs": [],
   "source": [
    "'''\n",
    "\"translation\" of input to desired URL parameter\n",
    "Creation of links to relevant datasets (see above) with chosen parameters\n",
    "add URL parameter to dataset link\n",
    "dataset links see above\n",
    "Beispiel-Schema für Wind-Dataset tavg1_2d_slv_Nx (unterteilt in tägliche Datensätze):\n",
    "Link für Datensatz für 01.01.1980: http://goldsmr4.sci.gsfc.nasa.gov/opendap/MERRA2/M2T1NXSLV.5.12.4/1980/01/MERRA2_100.tavg1_2d_slv_Nx.19800101.nc4\n",
    "-> Lädt kompletten Datensatz herunter (alle Parameter, gesamte Welt, 24 Stunden)\n",
    "-> .html anhängen = manualles subsetting\n",
    "z.B. time [0:1:23] = jeder Zeitschritt (hier:Stunde) zwischen 0 und 23 Uhr, [0:2:23] = nur jede 2. Stunde etc.\n",
    "z.B. lat/lon in Schritten angegeben\n",
    "- latitude (Breitengrad Nord/Süd) 360*0,5°-Schritte\n",
    "- longitude (Längengrad Ost/West) 575*0,625°-Schritte\n",
    "'''\n",
    "\n",
    "def translate_year_to_file_number(year):\n",
    "    \"\"\"\n",
    "    The file names basically consist of a number and a meta data string. \n",
    "    The number changes over the year. 1980\n",
    "    until 1991 it is 100, 1992 until 2000 it is 200, 2001 until 2010 it is \n",
    "    300 and from 2011 until now it is 400.\n",
    "    \"\"\"\n",
    "    file_number = ''\n",
    "    \n",
    "    if year >= 1980 and year < 1992:\n",
    "        file_number = '100'\n",
    "    elif year >= 1992 and year < 2001:\n",
    "        file_number = '200'\n",
    "    elif year >= 2001 and year < 2011:\n",
    "        file_number = '300'\n",
    "    elif year >= 2011:\n",
    "        file_number = '400'\n",
    "    else:\n",
    "        raise Exception('The specified year is out of range.')\n",
    "    \n",
    "    return file_number\n",
    "    \n",
    "\n",
    "# # Build the parameter\n",
    "# url_params = ['U2M','U10M','U50M','V2M','V10M','V50M', 'DISPH']\n",
    "# # time\n",
    "# url_params = map(lambda x: x + '[0:1:23]' , url_params)\n",
    "# # lat\n",
    "# url_params = map(lambda x: x + '[358:1:360]', url_params)\n",
    "# # lon\n",
    "# url_params = map(lambda x: x + '[573:1:575]', url_params) \n",
    "\n",
    "# url_params = ','.join(url_params)\n",
    "\n",
    "def generate_url_params(parameter, time_para, lat_para, lon_para):\n",
    "    '''Creates a string containing all the parameters in query form'''\n",
    "    parameter = map(lambda x: x + time_para, parameter)\n",
    "    parameter = map(lambda x: x + lat_para, parameter)\n",
    "    parameter = map(lambda x: x + lon_para, parameter)\n",
    "    \n",
    "    return ','.join(parameter)\n",
    "    \n",
    "    \n",
    "\n",
    "def generate_download_links(download_years, base_url, dataset_name, url_params):\n",
    "    '''\n",
    "    Generates the links for the download. \n",
    "    download_years: The years you want to download as array. \n",
    "    dataset_name: The name of the data set. For example tavg1_2d_slv_Nx\n",
    "    '''\n",
    "    urls = []\n",
    "    for y in download_years: # only for testing\n",
    "    # build the file_number\n",
    "        y_str = str(y)\n",
    "        file_num = translate_year_to_file_number(download_year)\n",
    "        for m in range(1,13):\n",
    "            # build the month string: for the month 1 - 9 it starts with a leading 0. zfill solves that problem\n",
    "            m_str = str(m).zfill(2)\n",
    "            # monthrange returns the first weekday and the number of days in a month. Also works for leap years.\n",
    "            _, nr_of_days = monthrange(y, m)\n",
    "            for d in range(1,nr_of_days+1):\n",
    "                d_str = str(d).zfill(2)\n",
    "                file_name = 'MERRA2_' + file_num + '.'+dataset_name+'.' + y_str + m_str + d_str + '.nc4'\n",
    "                query = base_url  + y_str + '/'+ m_str + '/' + file_name + '.nc4?' + url_params\n",
    "                urls.append(query)\n",
    "    return urls\n",
    "\n",
    "\n",
    "parameter = generate_url_params(['U2M','U10M','U50M',\n",
    "                                 'V2M','V10M','V50M','DISPH'],\n",
    "                                '[0:1:23]', '[358:1:360]', '[573:1:575]')\n",
    "\n",
    "BASE_URL = 'http://goldsmr4.sci.gsfc.nasa.gov:80/opendap/MERRA2/M2T1NXSLV.5.12.4/'\n",
    "generated_URL = generate_download_links([download_year], BASE_URL, \n",
    "                                        'tavg1_2d_slv_Nx', \n",
    "                                        parameter)\n",
    "            \n",
    "# generated_URL = []            \n",
    "# for y in [download_year]: # only for testing\n",
    "#     # build the file_number\n",
    "#     y_str = str(y)\n",
    "#     file_num = translate_year_to_file_number(download_year)\n",
    "#     for m in range(1,13):\n",
    "#         # build the month string: for the month 1 - 9 it starts with a leading 0. zfill solves that problem\n",
    "#         m_str = str(m).zfill(2)\n",
    "#         # monthrange returns the first weekday and the number of days in a month. Also works for leap years.\n",
    "#         _, nr_of_days = monthrange(y, m)\n",
    "#         for d in range(1,nr_of_days+1):\n",
    "#             d_str = str(d).zfill(2)\n",
    "#             file_name = 'MERRA2_' + file_num + '.tavg1_2d_slv_Nx.' + y_str + m_str + d_str + '.nc4'\n",
    "#             query = BASE_URL  + y_str + '/'+ m_str + '/' + file_name + '.nc4?' + url_params\n",
    "#             generated_URL.append(query)\n",
    "        \n",
    "log.debug('Queries generated: ' + str(len(generated_URL)))\n",
    "log.debug(generated_URL[0])\n"
   ]
  },
  {
   "cell_type": "markdown",
   "metadata": {},
   "source": [
    "## Download testing"
   ]
  },
  {
   "cell_type": "code",
   "execution_count": null,
   "metadata": {
    "collapsed": false
   },
   "outputs": [],
   "source": [
    "from opendap_download.multi_processing_download import DownloadManager\n",
    "dlm = DownloadManager()\n",
    "url = generated_URL[0]\n",
    "log.debug(url)\n",
    "filename = dlm.get_filename(url)\n",
    "log.debug(filename)"
   ]
  },
  {
   "cell_type": "markdown",
   "metadata": {
    "collapsed": true
   },
   "source": [
    "## Downloading data"
   ]
  },
  {
   "cell_type": "code",
   "execution_count": null,
   "metadata": {
    "collapsed": false,
    "scrolled": true
   },
   "outputs": [],
   "source": [
    "from opendap_download.multi_processing_download import DownloadManager\n",
    "\n",
    "# download data (one file per day and dataset) with links to local directory\n",
    "# username = \"TestUser\"\n",
    "# password = \"TestPassword\"\n",
    "# download_manager.set_username_and_password(username, password)\n",
    "download_manager = DownloadManager()\n",
    "download_manager.read_credentials_from_yaml('credentials.yaml')\n",
    "download_manager.download_path = 'download'\n",
    "download_manager.download_urls = generated_URL\n",
    "%time download_manager.start_download(4)"
   ]
  },
  {
   "cell_type": "markdown",
   "metadata": {},
   "source": [
    "# Get roughness from different file"
   ]
  },
  {
   "cell_type": "code",
   "execution_count": null,
   "metadata": {
    "collapsed": false
   },
   "outputs": [],
   "source": [
    "roughness_para = generate_url_params(['Z0M'], '[0:1:23]', \n",
    "                                     '[358:1:360]', '[573:1:575]')\n",
    "ROUGHNESS_BASE_URL = 'http://goldsmr4.sci.gsfc.nasa.gov/opendap/MERRA2/M2T1NXFLX.5.12.4/'\n",
    "roughness_links = generate_download_links([download_year], ROUGHNESS_BASE_URL,\n",
    "                                          'tavg1_2d_flx_Nx', roughness_para)\n",
    "            \n",
    "download_manager.download_path = 'roughness_download'\n",
    "download_manager.download_urls = roughness_links\n",
    "\n",
    "\n",
    "%time download_manager.start_download(4)"
   ]
  },
  {
   "cell_type": "markdown",
   "metadata": {},
   "source": [
    "---\n",
    "# Setting up wind dataframe"
   ]
  },
  {
   "cell_type": "code",
   "execution_count": null,
   "metadata": {
    "collapsed": false,
    "scrolled": true
   },
   "outputs": [],
   "source": [
    "def extract_date(data_set):\n",
    "    \"\"\"\n",
    "    Extracts the date from the file before merging the datasets\n",
    "    \"\"\"\n",
    "    # find a match between . and .nc4 that does not have . .\n",
    "    exp = r'(?<=\\.)[^\\.]*(?=\\.nc4)'\n",
    "    try:\n",
    "        f_name = data_set.attrs['HDF5_GLOBAL.Filename']\n",
    "        res = re.search(exp, f_name).group(0)\n",
    "        y, m, d = res[0:4], res[4:6], res[6:8]\n",
    "        date_str = ('%s-%s-%s' % (y, m, d))\n",
    "        data_set = data_set.assign(date=date_str)\n",
    "        return data_set\n",
    "\n",
    "    except KeyError:\n",
    "        # The last dataset is the one all the other sets will be merged into. \n",
    "        # Therefore, no date can be extracted.\n",
    "        return data_set\n",
    "\n",
    "file_path = os.path.join('download', '*.nc4')\n",
    "\n",
    "\n",
    "ds_wind = xr.open_mfdataset(file_path, \n",
    "                       concat_dim='date', \n",
    "                       preprocess=extract_date)\n",
    "\n",
    "df_wind = ds_wind.to_dataframe()\n"
   ]
  },
  {
   "cell_type": "code",
   "execution_count": null,
   "metadata": {
    "collapsed": false,
    "scrolled": true
   },
   "outputs": [],
   "source": [
    "df_wind.reset_index(inplace=True)"
   ]
  },
  {
   "cell_type": "code",
   "execution_count": null,
   "metadata": {
    "collapsed": false,
    "scrolled": true
   },
   "outputs": [],
   "source": [
    "start_date = datetime.strptime('2014-01-01', '%Y-%m-%d')\n",
    "\n",
    "def calculate_datetime(d_frame):\n",
    "    cur_date = datetime.strptime(d_frame['date'], '%Y-%m-%d')\n",
    "    hour = int(d_frame['time'])\n",
    "    delta = abs(cur_date - start_date).days\n",
    "    date_time_value = (delta * 24) + (hour)\n",
    "    return date_time_value\n",
    "\n",
    "# Testing area\n",
    "df2 = df_wind\n",
    "df2['date_time'] = df2.apply(calculate_datetime, axis=1)\n",
    "df2"
   ]
  },
  {
   "cell_type": "code",
   "execution_count": null,
   "metadata": {
    "collapsed": false
   },
   "outputs": [],
   "source": [
    "# Siren windspeed\n",
    "def calculate_windspeed(d_frame, idx_u, idx_v):\n",
    "    \"\"\"\n",
    "    Calculates the windspeed. The returned unit is m/s\n",
    "    \"\"\"\n",
    "    um = int(d_frame[idx_u])\n",
    "    vm = int(d_frame[idx_v])\n",
    "    speed = math.sqrt((um ** 2) + (vm ** 2))\n",
    "    return round(speed, 4)\n",
    "\n",
    "calc_windspeed_2m = partial(calculate_windspeed, idx_u='U2M', idx_v='V2M')\n",
    "calc_windspeed_10m = partial(calculate_windspeed, idx_u='U10M', idx_v='V10M')\n",
    "calc_windspeed_50m = partial(calculate_windspeed, idx_u='U50M', idx_v='V50M')\n",
    "\n",
    "df2['v_2m'] = df2.apply(calc_windspeed_2m, axis=1)\n",
    "df2['v_10m']= df2.apply(calc_windspeed_10m, axis=1)\n",
    "df2['v_50m'] = df2.apply(calc_windspeed_50m, axis=1)\n",
    "df2\n"
   ]
  },
  {
   "cell_type": "markdown",
   "metadata": {},
   "source": [
    "# Setting up Roughness dataframe"
   ]
  },
  {
   "cell_type": "code",
   "execution_count": null,
   "metadata": {
    "collapsed": false,
    "scrolled": true
   },
   "outputs": [],
   "source": [
    "file_path = os.path.join('roughness_download', '*.nc4')\n",
    "ds_rough = xr.open_mfdataset(file_path, concat_dim='date', \n",
    "                             preprocess=extract_date)\n",
    "\n",
    "df_rough = ds_rough.to_dataframe()\n",
    "df_rough.reset_index(inplace=True)\n",
    "\n",
    "df_rough"
   ]
  },
  {
   "cell_type": "markdown",
   "metadata": {
    "collapsed": true
   },
   "source": [
    "## Concatenating/combining individual files\n",
    "Combine individual (daily) dataset files to one single dataframe"
   ]
  },
  {
   "cell_type": "code",
   "execution_count": null,
   "metadata": {
    "collapsed": false
   },
   "outputs": [],
   "source": [
    "df = pd.merge(df_wind, df_rough, on=['date', 'lat', 'lon', 'time'])\n",
    "df"
   ]
  },
  {
   "cell_type": "markdown",
   "metadata": {},
   "source": [
    "## First look at the final data frame structure and format"
   ]
  },
  {
   "cell_type": "code",
   "execution_count": null,
   "metadata": {
    "collapsed": false
   },
   "outputs": [],
   "source": [
    "df.info()"
   ]
  },
  {
   "cell_type": "markdown",
   "metadata": {},
   "source": [
    "## Saving dataframe\n",
    "Save the final dataframe locally"
   ]
  },
  {
   "cell_type": "code",
   "execution_count": null,
   "metadata": {
    "collapsed": true
   },
   "outputs": [],
   "source": [
    "df.to_csv('weather_script_result.csv', index=False)"
   ]
  },
  {
   "cell_type": "markdown",
   "metadata": {},
   "source": [
    "---\n",
    "The further processing of the data frame and the compiling of the final data package can be found in [Part3](weather_data_3_processing.ipynb) of this script."
   ]
  },
  {
   "cell_type": "code",
   "execution_count": null,
   "metadata": {
    "collapsed": true
   },
   "outputs": [],
   "source": []
  }
 ],
 "metadata": {
  "anaconda-cloud": {},
  "kernelspec": {
   "display_name": "Python 3",
   "language": "python",
   "name": "python3"
  },
  "language_info": {
   "codemirror_mode": {
    "name": "ipython",
    "version": 3
   },
   "file_extension": ".py",
   "mimetype": "text/x-python",
   "name": "python",
   "nbconvert_exporter": "python",
   "pygments_lexer": "ipython3",
   "version": "3.5.2"
  },
  "toc": {
   "toc_cell": true,
   "toc_number_sections": true,
   "toc_threshold": 6,
   "toc_window_display": false
  }
 },
 "nbformat": 4,
 "nbformat_minor": 0
}

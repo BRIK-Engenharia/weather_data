{
 "cells": [
  {
   "cell_type": "markdown",
   "metadata": {
    "toc": "true"
   },
   "source": [
    "# Table of Contents\n",
    " <p><div class=\"lev1\"><a href=\"#How-to-obtain-weather-data-from-MERRA-2-(Part-2):-Download-raw-data\"><span class=\"toc-item-num\">1&nbsp;&nbsp;</span>How to obtain weather data from MERRA-2 (Part 2): Download raw data</a></div><div class=\"lev2\"><a href=\"#About-this-Notebook\"><span class=\"toc-item-num\">1.1&nbsp;&nbsp;</span>About this Notebook</a></div><div class=\"lev3\"><a href=\"#Other-notebooks\"><span class=\"toc-item-num\">1.1.1&nbsp;&nbsp;</span>Other notebooks</a></div><div class=\"lev3\"><a href=\"#License\"><span class=\"toc-item-num\">1.1.2&nbsp;&nbsp;</span>License</a></div><div class=\"lev3\"><a href=\"#Table-of-contents\"><span class=\"toc-item-num\">1.1.3&nbsp;&nbsp;</span>Table of contents</a></div><div class=\"lev1\"><a href=\"#Script-Setup\"><span class=\"toc-item-num\">2&nbsp;&nbsp;</span>Script Setup</a></div><div class=\"lev1\"><a href=\"#Download-raw-data\"><span class=\"toc-item-num\">3&nbsp;&nbsp;</span>Download raw data</a></div><div class=\"lev2\"><a href=\"#Input\"><span class=\"toc-item-num\">3.1&nbsp;&nbsp;</span>Input</a></div><div class=\"lev3\"><a href=\"#Parameters-choices\"><span class=\"toc-item-num\">3.1.1&nbsp;&nbsp;</span>Parameters choices</a></div><div class=\"lev3\"><a href=\"#Timeframe\"><span class=\"toc-item-num\">3.1.2&nbsp;&nbsp;</span>Timeframe</a></div><div class=\"lev3\"><a href=\"#Geography-coordinates\"><span class=\"toc-item-num\">3.1.3&nbsp;&nbsp;</span>Geography coordinates</a></div><div class=\"lev2\"><a href=\"#Subsetting-data\"><span class=\"toc-item-num\">3.2&nbsp;&nbsp;</span>Subsetting data</a></div><div class=\"lev2\"><a href=\"#Downloading-data\"><span class=\"toc-item-num\">3.3&nbsp;&nbsp;</span>Downloading data</a></div><div class=\"lev1\"><a href=\"#Setting-up-dataframe(s)\"><span class=\"toc-item-num\">4&nbsp;&nbsp;</span>Setting up dataframe(s)</a></div><div class=\"lev2\"><a href=\"#Concatenating/combining-individual-files\"><span class=\"toc-item-num\">4.1&nbsp;&nbsp;</span>Concatenating/combining individual files</a></div><div class=\"lev2\"><a href=\"#First-look-at-the-final-data-frame-structure-and-format\"><span class=\"toc-item-num\">4.2&nbsp;&nbsp;</span>First look at the final data frame structure and format</a></div><div class=\"lev2\"><a href=\"#Saving-dataframe\"><span class=\"toc-item-num\">4.3&nbsp;&nbsp;</span>Saving dataframe</a></div>"
   ]
  },
  {
   "cell_type": "markdown",
   "metadata": {},
   "source": [
    "# How to obtain weather data from MERRA-2 (Part 2): Download raw data"
   ]
  },
  {
   "cell_type": "markdown",
   "metadata": {},
   "source": [
    "## About this Notebook\n",
    "This Jupyter Notebook is part of the [Open Power System Data Project](http://www.open-power-system-data.org) and is written in Python 3. \n",
    "\n",
    "This is **Part 2** of the notebook. It aims to download data from the MERRRA-2 weather dataset.\n",
    "\n",
    "---\n",
    "\n",
    "### Other notebooks\n",
    "**Part 1**: Introduction\n",
    "\n",
    "**Part 3**: Processing raw data and compiling the data package\n",
    "\n",
    "### License\n",
    "\n",
    "This notebook is published under [The MIT License](https://opensource.org/licenses/mit-license.php) license:\n",
    "\n",
    "Copyright (c) 2016 [copyright holders]\n",
    "\n",
    "Permission is hereby granted, free of charge, to any person obtaining a copy of this software and associated documentation files (the \"Software\"), to deal in the Software without restriction, including without limitation the rights to use, copy, modify, merge, publish, distribute, sublicense, and/or sell copies of the Software, and to permit persons to whom the Software is furnished to do so, subject to the following conditions:\n",
    "\n",
    "The above copyright notice and this permission notice shall be included in all copies or substantial portions of the Software.\n",
    "\n",
    "THE SOFTWARE IS PROVIDED \"AS IS\", WITHOUT WARRANTY OF ANY KIND, EXPRESS OR IMPLIED, INCLUDING BUT NOT LIMITED TO THE WARRANTIES OF MERCHANTABILITY, FITNESS FOR A PARTICULAR PURPOSE AND NONINFRINGEMENT. IN NO EVENT SHALL THE AUTHORS OR COPYRIGHT HOLDERS BE LIABLE FOR ANY CLAIM, DAMAGES OR OTHER LIABILITY, WHETHER IN AN ACTION OF CONTRACT, TORT OR OTHERWISE, ARISING FROM, OUT OF OR IN CONNECTION WITH THE SOFTWARE OR THE USE OR OTHER DEALINGS IN THE SOFTWARE.\n",
    "\n",
    "### Table of contents\n",
    " <p><div class=\"lev2\"><a href=\"#About-this-Notebook\"><span class=\"toc-item-num\">1.1&nbsp;&nbsp;</span>About this Notebook</a></div><div class=\"lev3\"><a href=\"#Other-notebooks\"><span class=\"toc-item-num\">1.1.1&nbsp;&nbsp;</span>Other notebooks</a></div><div class=\"lev3\"><a href=\"#License\"><span class=\"toc-item-num\">1.1.2&nbsp;&nbsp;</span>License</a></div><div class=\"lev3\"><a href=\"#Table-of-contents\"><span class=\"toc-item-num\">1.1.3&nbsp;&nbsp;</span>Table of contents</a></div><div class=\"lev1\"><a href=\"#Script-Setup\"><span class=\"toc-item-num\">2&nbsp;&nbsp;</span>Script Setup</a></div><div class=\"lev1\"><a href=\"#Download-raw-data\"><span class=\"toc-item-num\">3&nbsp;&nbsp;</span>Download raw data</a></div><div class=\"lev2\"><a href=\"#Input\"><span class=\"toc-item-num\">3.1&nbsp;&nbsp;</span>Input</a></div><div class=\"lev3\"><a href=\"#Parameters-choices\"><span class=\"toc-item-num\">3.1.1&nbsp;&nbsp;</span>Parameters choices</a></div><div class=\"lev3\"><a href=\"#Timeframe\"><span class=\"toc-item-num\">3.1.2&nbsp;&nbsp;</span>Timeframe</a></div><div class=\"lev3\"><a href=\"#Geography-coordinates\"><span class=\"toc-item-num\">3.1.3&nbsp;&nbsp;</span>Geography coordinates</a></div><div class=\"lev2\"><a href=\"#Subsetting-data\"><span class=\"toc-item-num\">3.2&nbsp;&nbsp;</span>Subsetting data</a></div><div class=\"lev2\"><a href=\"#Downloading-data\"><span class=\"toc-item-num\">3.3&nbsp;&nbsp;</span>Downloading data</a></div><div class=\"lev1\"><a href=\"#Setting-up-dataframe(s)\"><span class=\"toc-item-num\">4&nbsp;&nbsp;</span>Setting up dataframe(s)</a></div><div class=\"lev2\"><a href=\"#Concatenating/combining-individual-files\"><span class=\"toc-item-num\">4.1&nbsp;&nbsp;</span>Concatenating/combining individual files</a></div><div class=\"lev2\"><a href=\"#First-look-at-the-final-data-frame-structure-and-format\"><span class=\"toc-item-num\">4.2&nbsp;&nbsp;</span>First look at the final data frame structure and format</a></div><div class=\"lev2\"><a href=\"#Saving-dataframe\"><span class=\"toc-item-num\">4.3&nbsp;&nbsp;</span>Saving dataframe</a></div>\n",
    " \n",
    "***"
   ]
  },
  {
   "cell_type": "markdown",
   "metadata": {
    "collapsed": true
   },
   "source": [
    "# Script Setup"
   ]
  },
  {
   "cell_type": "code",
   "execution_count": null,
   "metadata": {
    "collapsed": true
   },
   "outputs": [],
   "source": [
    "# importing all necessary Python libraries for this Script\n",
    "\n",
    "# Set up a log\n",
    "logger = logging.getLogger('notebook')\n",
    "logger.setLevel('INFO')\n",
    "nb_root_logger = logging.getLogger()\n",
    "formatter = logging.Formatter('%(asctime)s - %(name)s - %(levelname)s'\\\n",
    "                              '- %(message)s',datefmt='%d %b %Y %H:%M:%S')\n",
    "nb_root_logger.handlers[0].setFormatter(formatter)\n",
    "\n",
    "# Create input and output folders if they don't exist\n",
    "os.makedirs('input/original_data', exist_ok=True)\n",
    "os.makedirs('output', exist_ok=True)\n",
    "os.makedirs('output/datapackage_renewables', exist_ok=True)"
   ]
  },
  {
   "cell_type": "markdown",
   "metadata": {
    "collapsed": true
   },
   "source": [
    "---\n",
    "# Download raw data"
   ]
  },
  {
   "cell_type": "markdown",
   "metadata": {
    "collapsed": true
   },
   "source": [
    "## Input\n",
    "### Parameters choices\n",
    "Definition of Input parameters for creating URL with OPeNDAP. Which parameters shall be included in the weather data package?\n",
    "\n",
    "**general parameters**\n",
    "- tavg1_2d_slv_Nx = M2T1NXSLV:\n",
    "  - H850: Height at 850 hPa\n",
    "  - H500: Height at 500 hPa\n",
    "  - H250: Height at 250 hPa\n",
    "  - DISPH: Displacement height\n",
    "  - ftp://goldsmr4.sci.gsfc.nasa.gov/data/s4pa/MERRA2/M2T1NXSLV.5.12.4/\n",
    "  - via OPenDAP: http://goldsmr4.sci.gsfc.nasa.gov/opendap/MERRA2/M2T1NXSLV.5.12.4/contents.html\n",
    "  \n",
    "**Wind Speed** \n",
    "- tavg1_2d_slv_Nx = M2T1NXSLV\n",
    "  - U2M: Eastward wind at 2 m above displacement height\n",
    "  - U10M: Eastward wind at 10 m above displacement height\n",
    "  - U50M: Eastward wind at 50 m above surface\n",
    "  - U850: Eastward wind at 850 hPa\n",
    "  - U500: Eastward wind at 500 hPa\n",
    "  - U250: Eastward wind at 250 hPa\n",
    "  - V2M: Northward wind at 2 m above displacement height\n",
    "  - V10M: Northward wind at 10 m above displacement height\n",
    "  - V50M: Northward wind at 50 m above surface\n",
    "  - V850: Northward wind at 850 hPa\n",
    "  - V500: Northward wind at 500 hPa\n",
    "  - V250: Northward wind at 250 hPa\n",
    "  - ftp://goldsmr4.sci.gsfc.nasa.gov/data/s4pa/MERRA2/M2T1NXSLV.5.12.4/\n",
    "  - via OPenDAP: http://goldsmr4.sci.gsfc.nasa.gov/opendap/MERRA2/M2T1NXSLV.5.12.4/contents.html\n",
    "  \n",
    "- tavg1_2d_flx_Nx = M2T1NXFLX:\n",
    "  - Z0M: Roughness length, momentum\n",
    "  - ftp://goldsmr4.sci.gsfc.nasa.gov/data/s4pa/MERRA2/M2T1NXFLX.5.12.4/\n",
    "  - via OPenDAP: http://goldsmr4.sci.gsfc.nasa.gov/opendap/MERRA2/M2T1NXFLX.5.12.4/contents.html\n",
    "\n",
    "später: **Temperature** (tavg1_2d_slv_Nx = M2T1NXSLV)\n",
    "- TS: Surface skin temperature\n",
    "- T2M Temperature at 2 m above the displacement height\n",
    "- T10M: Temperature at 10 m above the displacement height\n",
    "- T850: Temperature at 850 hPa\n",
    "- T500: Temperature at 500 hPa\n",
    "- T250: Temperature at 250 hPa\n",
    "- ftp://goldsmr4.sci.gsfc.nasa.gov/data/s4pa/MERRA2/M2T1NXSLV.5.12.4/\n",
    "- via OPenDAP: http://goldsmr4.sci.gsfc.nasa.gov/opendap/MERRA2/M2T1NXSLV.5.12.4/contents.html\n",
    "\n",
    "später: **Solar Radiation** (tavg1_2d_rad_Nx = M2T1NXRAD)\n",
    "- SWGDN: Surface incident shortwave flux (incident = einfallender Strahl)\n",
    "- SWGDNCLR: Surface incident shortwave flux assuming clear sky\n",
    "- SWGNT: Surface net downward shortwave flux\n",
    "- SWGNTCLR: Surface net downward shortwave flux assuming clear sky\n",
    "- SWGNTCLN: Surface net downward shortwave flux assuming clean sky\n",
    "- SWGNTCLRCLN: Surface net downward shortwave flux assuming clear clean sky\n",
    "- SWTDN: top-of-atmosphere incoming shortwave flux\n",
    "- _possibly more_\n",
    "- ftp://goldsmr4.sci.gsfc.nasa.gov/data/s4pa/MERRA2/M2T1NXRAD.5.12.4/\n",
    "- via OPenDAP: http://goldsmr4.sci.gsfc.nasa.gov/opendap/MERRA2/M2T1NXRAD.5.12.4/contents.html"
   ]
  },
  {
   "cell_type": "code",
   "execution_count": 1,
   "metadata": {
    "ExecuteTime": {
     "end_time": "2016-07-12T17:02:07.640325",
     "start_time": "2016-07-12T17:02:07.584319"
    },
    "collapsed": false
   },
   "outputs": [
    {
     "data": {
      "text/plain": [
       "'User input which parameter are needed:\\n- wind\\n- solar radiation\\n- temperature\\n'"
      ]
     },
     "execution_count": 1,
     "metadata": {},
     "output_type": "execute_result"
    }
   ],
   "source": [
    "# User input which parameter are needed:\n",
    "# - wind\n",
    "# - solar radiation\n",
    "# - temperature"
   ]
  },
  {
   "cell_type": "code",
   "execution_count": 2,
   "metadata": {
    "collapsed": true
   },
   "outputs": [],
   "source": [
    "# \"translation\" of input to list of needed dataset parameters (see above)\n",
    "# download general parameters always\n",
    "# download other parameters/datasets only when needed (see list above)"
   ]
  },
  {
   "cell_type": "markdown",
   "metadata": {},
   "source": [
    "### Timeframe\n",
    "Definition of desired timespan data is needed for. (Optional: daily, monthly, yearly aggregation)"
   ]
  },
  {
   "cell_type": "code",
   "execution_count": null,
   "metadata": {
    "collapsed": true
   },
   "outputs": [],
   "source": [
    "# User input of timespan"
   ]
  },
  {
   "cell_type": "markdown",
   "metadata": {},
   "source": [
    "### Geography coordinates\n",
    "Definition of desired coordinates (rectangular area) data is needed for -> corner coordinates input"
   ]
  },
  {
   "cell_type": "code",
   "execution_count": 2,
   "metadata": {
    "ExecuteTime": {
     "end_time": "2016-07-12T17:24:14.539011",
     "start_time": "2016-07-12T17:24:14.526010"
    },
    "collapsed": true
   },
   "outputs": [],
   "source": [
    "# User input of coordinates\n",
    "# ------\n",
    "# Bsp. Schleswig-Holstein (lat/lon in WGS84 Dezimalgrad)\n",
    "# Nordost-Punkt; 55,036823°N, 11,349297°E\n",
    "# Südwest-Punkt; 53,366266°N, 7,887088°E"
   ]
  },
  {
   "cell_type": "markdown",
   "metadata": {
    "collapsed": true
   },
   "source": [
    "## Subsetting data"
   ]
  },
  {
   "cell_type": "markdown",
   "metadata": {
    "collapsed": true
   },
   "source": [
    "Combining parameter choices above/translation according to OPenDAP guidelines into URL-appendix"
   ]
  },
  {
   "cell_type": "code",
   "execution_count": null,
   "metadata": {
    "collapsed": true
   },
   "outputs": [],
   "source": [
    "'''\n",
    "\"translation\" of input to desired URL parameter\n",
    "Creation of links to relevant datasets (see above) with chosen parameters\n",
    "add URL parameter to dataset link\n",
    "dataset links see above\n",
    "Beispiel-Schema für Wind-Dataset tavg1_2d_slv_Nx (unterteilt in tägliche Datensätze):\n",
    "Link für Datensatz für 01.01.1980: http://goldsmr4.sci.gsfc.nasa.gov/opendap/MERRA2/M2T1NXSLV.5.12.4/1980/01/MERRA2_100.tavg1_2d_slv_Nx.19800101.nc4\n",
    "-> Lädt kompletten Datensatz herunter (alle Parameter, gesamte Welt, 24 Stunden)\n",
    "-> .html anhängen = manualles subsetting\n",
    "z.B. time [0:1:23] = jeder Zeitschritt (hier:Stunde) zwischen 0 und 23 Uhr, [0:2:23] = nur jede 2. Stunde etc.\n",
    "z.B. lat/lon in Schritten angegeben\n",
    "- latitude (Breitengrad Nord/Süd) 360*0,5°-Schritte\n",
    "- longitude (Längengrad Ost/West) 575*0,625°-Schritte\n",
    "'''"
   ]
  },
  {
   "cell_type": "markdown",
   "metadata": {
    "collapsed": true
   },
   "source": [
    "## Downloading data"
   ]
  },
  {
   "cell_type": "code",
   "execution_count": null,
   "metadata": {
    "collapsed": true
   },
   "outputs": [],
   "source": [
    "# download data (one file per day and dataset) with links to local directory\n"
   ]
  },
  {
   "cell_type": "markdown",
   "metadata": {},
   "source": [
    "---\n",
    "# Setting up dataframe(s)"
   ]
  },
  {
   "cell_type": "code",
   "execution_count": 3,
   "metadata": {
    "collapsed": true
   },
   "outputs": [],
   "source": [
    "# create dataframe(s)"
   ]
  },
  {
   "cell_type": "markdown",
   "metadata": {
    "collapsed": true
   },
   "source": [
    "## Concatenating/combining individual files\n",
    "Combine individual (daily) dataset files to one single dataframe"
   ]
  },
  {
   "cell_type": "code",
   "execution_count": null,
   "metadata": {
    "collapsed": true
   },
   "outputs": [],
   "source": [
    "# load/concatenate all files -> one dataframe per daily dataset"
   ]
  },
  {
   "cell_type": "code",
   "execution_count": null,
   "metadata": {
    "collapsed": true
   },
   "outputs": [],
   "source": [
    "# combine all individual dataframes to one dataframe in total"
   ]
  },
  {
   "cell_type": "markdown",
   "metadata": {},
   "source": [
    "## First look at the final data frame structure and format"
   ]
  },
  {
   "cell_type": "code",
   "execution_count": null,
   "metadata": {
    "collapsed": true
   },
   "outputs": [],
   "source": [
    "DataFrame.info()"
   ]
  },
  {
   "cell_type": "markdown",
   "metadata": {},
   "source": [
    "## Saving dataframe\n",
    "Save the final dataframe locally"
   ]
  },
  {
   "cell_type": "code",
   "execution_count": null,
   "metadata": {
    "collapsed": true
   },
   "outputs": [],
   "source": []
  },
  {
   "cell_type": "markdown",
   "metadata": {},
   "source": [
    "---\n",
    "The further processing of the data frame and the compiling of the final data package can be found in [Part3]() of this script."
   ]
  }
 ],
 "metadata": {
  "anaconda-cloud": {},
  "kernelspec": {
   "display_name": "Python [Root]",
   "language": "python",
   "name": "Python [Root]"
  },
  "language_info": {
   "codemirror_mode": {
    "name": "ipython",
    "version": 3
   },
   "file_extension": ".py",
   "mimetype": "text/x-python",
   "name": "python",
   "nbconvert_exporter": "python",
   "pygments_lexer": "ipython3",
   "version": "3.5.2"
  },
  "toc": {
   "toc_cell": true,
   "toc_number_sections": true,
   "toc_threshold": 6,
   "toc_window_display": false
  }
 },
 "nbformat": 4,
 "nbformat_minor": 0
}

{
 "cells": [
  {
   "cell_type": "markdown",
   "metadata": {},
   "source": [
    "<div style=\"width:100%; background-color: #D9EDF7; border: 1px solid #CFCFCF; text-align: left; padding: 10px;\">\n",
    "      <b>Weather Data: Main Notebook</b>\n",
    "      <ul>\n",
    "        <li>Main notebook</li>\n",
    "        <li><a href=\"download.ipynb\">Download weather data from Renewables.ninja</a></li>\n",
    "        <li><a href=\"processing.ipynb\">Process weather data from Renewables.ninja</a></li>\n",
    "        <li><a href=\"download_merra2.ipynb\">Example script to download arbitrary MERRA-2 data</a></li>\n",
    "      </ul>\n",
    "      <br>This Notebook is part of the <a href=\"http://data.open-power-system-data.org/weather_data\">Weather Data Package</a> of <a href=\"http://open-power-system-data.org\">Open Power System Data</a>.\n",
    "</div>"
   ]
  },
  {
   "cell_type": "markdown",
   "metadata": {
    "toc": true
   },
   "source": [
    "<h1>Table of Contents<span class=\"tocSkip\"></span></h1>\n",
    "<div class=\"toc\" style=\"margin-top: 1em;\"><ul class=\"toc-item\"><li><span><a href=\"#1.-About-Open-Power-System-Data\" data-toc-modified-id=\"1.-About-Open-Power-System-Data-1\">1. About Open Power System Data</a></span></li><li><span><a href=\"#2.-About-Jupyter-Notebooks-and-GitHub\" data-toc-modified-id=\"2.-About-Jupyter-Notebooks-and-GitHub-2\">2. About Jupyter Notebooks and GitHub</a></span></li><li><span><a href=\"#3.-About-this-datapackage\" data-toc-modified-id=\"3.-About-this-datapackage-3\">3. About this datapackage</a></span></li><li><span><a href=\"#4.-Data-sources\" data-toc-modified-id=\"4.-Data-sources-4\">4. Data sources</a></span></li><li><span><a href=\"#5.-License\" data-toc-modified-id=\"5.-License-5\">5. License</a></span></li></ul></div>"
   ]
  },
  {
   "cell_type": "markdown",
   "metadata": {},
   "source": [
    "# 1. About Open Power System Data"
   ]
  },
  {
   "cell_type": "markdown",
   "metadata": {},
   "source": [
    "This notebook is part of the project [Open Power System Data](http://open-power-system-data.org). Open Power System Data develops a platform for free and open data for electricity system modeling. We collect, check, process, document, and provide data that are publicly available but currently inconvenient to use. \n",
    "More info on Open Power System Data:\n",
    "- [Information on the project on our website](http://open-power-system-data.org)\n",
    "- [Data and metadata on our data platform](http://data.open-power-system-data.org)\n",
    "- [Data processing scripts on our GitHub page](https://github.com/Open-Power-System-Data)"
   ]
  },
  {
   "cell_type": "markdown",
   "metadata": {},
   "source": [
    "# 2. About Jupyter Notebooks and GitHub"
   ]
  },
  {
   "cell_type": "markdown",
   "metadata": {},
   "source": [
    "This file is a [Jupyter Notebook](http://jupyter.org/). A Jupyter Notebook is a file that combines executable programming code with visualizations and comments in markdown format, allowing for an intuitive documentation of the code. We use Jupyter Notebooks for combined coding and documentation. We use Python 3 as programming language. All Notebooks are stored on [GitHub](https://github.com/), a platform for software development, and are publicly available. More information on our IT-concept can be found [here](http://open-power-system-data.org/it). See also our [step-by-step manual](http://open-power-system-data.org/step-by-step) how to use the dataplatform."
   ]
  },
  {
   "cell_type": "markdown",
   "metadata": {},
   "source": [
    "# 3. About this datapackage"
   ]
  },
  {
   "cell_type": "markdown",
   "metadata": {},
   "source": [
    "We provide data in different chunks, or [data packages](http://frictionlessdata.io/data-packages/).\n",
    "\n",
    "The one you are looking at right now, [Weather Data](http://data.open-power-system-data.org/weather_data/), contains geographically aggregated weather variables relevant for power system modelling. The main focus of this data package is Germany and neighboring European countries."
   ]
  },
  {
   "cell_type": "markdown",
   "metadata": {},
   "source": [
    "# 4. Data sources"
   ]
  },
  {
   "cell_type": "markdown",
   "metadata": {},
   "source": [
    "The data source for the pre-computed country-aggregated weather datasets is [Renewables.ninja](https://www.renewables.ninja), which in turn is based on weather data from the [NASA MERRA-2 reanalysis](https://gmao.gsfc.nasa.gov/reanalysis/MERRA-2/)."
   ]
  },
  {
   "cell_type": "markdown",
   "metadata": {},
   "source": [
    "# 5. License"
   ]
  },
  {
   "cell_type": "markdown",
   "metadata": {},
   "source": [
    "This notebook as well as all other documents in this repository is published under the [MIT License](LICENSE.md)."
   ]
  }
 ],
 "metadata": {
  "anaconda-cloud": {},
  "kernelspec": {
   "display_name": "Python 3",
   "language": "python",
   "name": "python3"
  },
  "language_info": {
   "codemirror_mode": {
    "name": "ipython",
    "version": 3
   },
   "file_extension": ".py",
   "mimetype": "text/x-python",
   "name": "python",
   "nbconvert_exporter": "python",
   "pygments_lexer": "ipython3",
   "version": "3.6.6"
  },
  "toc": {
   "nav_menu": {
    "height": "120px",
    "width": "252px"
   },
   "number_sections": false,
   "sideBar": true,
   "skip_h1_title": false,
   "toc_cell": true,
   "toc_position": {},
   "toc_section_display": "block",
   "toc_window_display": true
  },
  "varInspector": {
   "cols": {
    "lenName": 16,
    "lenType": 16,
    "lenVar": 40
   },
   "kernels_config": {
    "python": {
     "delete_cmd_postfix": "",
     "delete_cmd_prefix": "del ",
     "library": "var_list.py",
     "varRefreshCmd": "print(var_dic_list())"
    },
    "r": {
     "delete_cmd_postfix": ") ",
     "delete_cmd_prefix": "rm(",
     "library": "var_list.r",
     "varRefreshCmd": "cat(var_dic_list()) "
    }
   },
   "types_to_exclude": [
    "module",
    "function",
    "builtin_function_or_method",
    "instance",
    "_Feature"
   ],
   "window_display": false
  }
 },
 "nbformat": 4,
 "nbformat_minor": 1
}

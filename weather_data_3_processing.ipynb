{
 "cells": [
  {
   "cell_type": "markdown",
   "metadata": {},
   "source": [
    "# How to obtain weather data from MERRA-2 (Part 3): Processing raw data and compiling the data package"
   ]
  },
  {
   "cell_type": "markdown",
   "metadata": {},
   "source": [
    "## About this Notebook\n",
    "This Jupyter Notebook is part of the [Open Power System Data Project](http://www.open-power-system-data.org) and is written in Python 3. \n",
    "\n",
    "This is **Part 3** of the notebook. It aims to process the downloaded raw data and compiles the data package.\n",
    "\n",
    "**_Before running this script make sure you ran [Part 2]()!_**\n",
    "\n",
    "---\n",
    "\n",
    "### Other notebooks\n",
    "**[Part 1**](): Introduction\n",
    "\n",
    "**[Part 2**](): Download raw data\n",
    "\n",
    "### License\n",
    "\n",
    "This notebook is published under [The MIT License](https://opensource.org/licenses/mit-license.php) license:\n",
    "\n",
    "Copyright (c) 2016 [copyright holders]\n",
    "\n",
    "Permission is hereby granted, free of charge, to any person obtaining a copy of this software and associated documentation files (the \"Software\"), to deal in the Software without restriction, including without limitation the rights to use, copy, modify, merge, publish, distribute, sublicense, and/or sell copies of the Software, and to permit persons to whom the Software is furnished to do so, subject to the following conditions:\n",
    "\n",
    "The above copyright notice and this permission notice shall be included in all copies or substantial portions of the Software.\n",
    "\n",
    "THE SOFTWARE IS PROVIDED \"AS IS\", WITHOUT WARRANTY OF ANY KIND, EXPRESS OR IMPLIED, INCLUDING BUT NOT LIMITED TO THE WARRANTIES OF MERCHANTABILITY, FITNESS FOR A PARTICULAR PURPOSE AND NONINFRINGEMENT. IN NO EVENT SHALL THE AUTHORS OR COPYRIGHT HOLDERS BE LIABLE FOR ANY CLAIM, DAMAGES OR OTHER LIABILITY, WHETHER IN AN ACTION OF CONTRACT, TORT OR OTHERWISE, ARISING FROM, OUT OF OR IN CONNECTION WITH THE SOFTWARE OR THE USE OR OTHER DEALINGS IN THE SOFTWARE.\n",
    "\n",
    "### Table of contents\n",
    "<p><div class=\"lev2\"><a href=\"#About-this-Notebook\"><span class=\"toc-item-num\">1.1&nbsp;&nbsp;</span>About this Notebook</a></div><div class=\"lev3\"><a href=\"#Other-notebooks\"><span class=\"toc-item-num\">1.1.1&nbsp;&nbsp;</span>Other notebooks</a></div><div class=\"lev3\"><a href=\"#License\"><span class=\"toc-item-num\">1.1.2&nbsp;&nbsp;</span>License</a></div><div class=\"lev3\"><a href=\"#Table-of-contents\"><span class=\"toc-item-num\">1.1.3&nbsp;&nbsp;</span>Table of contents</a></div><div class=\"lev3\"><a href=\"#Script-Setup\"><span class=\"toc-item-num\">1.1.4&nbsp;&nbsp;</span>Script Setup</a></div><div class=\"lev3\"><a href=\"#Import-downloaded-files-from-Part-2\"><span class=\"toc-item-num\">1.1.5&nbsp;&nbsp;</span>Import downloaded files from <a target=\"_blank\" href=\"\">Part 2</a></a></div><div class=\"lev2\"><a href=\"#Cleaning-raw-data\"><span class=\"toc-item-num\">1.2&nbsp;&nbsp;</span>Cleaning raw data</a></div><div class=\"lev3\"><a href=\"#calculating-height-profiles\"><span class=\"toc-item-num\">1.2.1&nbsp;&nbsp;</span>calculating height profiles</a></div><div class=\"lev3\"><a href=\"#calculating-wind-data\"><span class=\"toc-item-num\">1.2.2&nbsp;&nbsp;</span>calculating wind data</a></div><div class=\"lev3\"><a href=\"#calculating-solar-data\"><span class=\"toc-item-num\">1.2.3&nbsp;&nbsp;</span>calculating solar data</a></div><div class=\"lev3\"><a href=\"#temperature\"><span class=\"toc-item-num\">1.2.4&nbsp;&nbsp;</span>temperature</a></div><div class=\"lev3\"><a href=\"#roughness-length\"><span class=\"toc-item-num\">1.2.5&nbsp;&nbsp;</span>roughness length</a></div><div class=\"lev2\"><a href=\"#Compiling-data-package\"><span class=\"toc-item-num\">1.3&nbsp;&nbsp;</span>Compiling data package</a></div><div class=\"lev3\"><a href=\"#netCDF\"><span class=\"toc-item-num\">1.3.1&nbsp;&nbsp;</span>netCDF</a></div><div class=\"lev3\"><a href=\"#CSV\"><span class=\"toc-item-num\">1.3.2&nbsp;&nbsp;</span>CSV</a></div><div class=\"lev3\"><a href=\"#Metadata-(JSON)\"><span class=\"toc-item-num\">1.3.3&nbsp;&nbsp;</span>Metadata (JSON)</a></div>\n",
    "\n",
    "***"
   ]
  },
  {
   "cell_type": "markdown",
   "metadata": {},
   "source": [
    "### Script Setup"
   ]
  },
  {
   "cell_type": "code",
   "execution_count": null,
   "metadata": {
    "collapsed": true
   },
   "outputs": [],
   "source": [
    "# importing all necessary Python libraries for this Script\n",
    "\n",
    "# Set up a log\n",
    "logger = logging.getLogger('notebook')\n",
    "logger.setLevel('INFO')\n",
    "nb_root_logger = logging.getLogger()\n",
    "formatter = logging.Formatter('%(asctime)s - %(name)s - %(levelname)s'\\\n",
    "                              '- %(message)s',datefmt='%d %b %Y %H:%M:%S')\n",
    "nb_root_logger.handlers[0].setFormatter(formatter)\n",
    "\n",
    "# Create input and output folders if they don't exist\n",
    "# os.makedirs('input/original_data', exist_ok=True)\n",
    "# os.makedirs('output', exist_ok=True)\n",
    "# os.makedirs('output/datapackage_renewables', exist_ok=True)"
   ]
  },
  {
   "cell_type": "markdown",
   "metadata": {
    "collapsed": true
   },
   "source": [
    "### Import downloaded files from [Part 2]()"
   ]
  },
  {
   "cell_type": "code",
   "execution_count": null,
   "metadata": {
    "collapsed": true
   },
   "outputs": [],
   "source": []
  },
  {
   "cell_type": "markdown",
   "metadata": {
    "collapsed": true
   },
   "source": [
    "## Cleaning raw data"
   ]
  },
  {
   "cell_type": "code",
   "execution_count": null,
   "metadata": {
    "collapsed": true
   },
   "outputs": [],
   "source": []
  },
  {
   "cell_type": "markdown",
   "metadata": {
    "collapsed": true
   },
   "source": [
    "### calculating height profiles"
   ]
  },
  {
   "cell_type": "code",
   "execution_count": null,
   "metadata": {
    "collapsed": true
   },
   "outputs": [],
   "source": []
  },
  {
   "cell_type": "markdown",
   "metadata": {
    "collapsed": true
   },
   "source": [
    "### calculating wind data"
   ]
  },
  {
   "cell_type": "code",
   "execution_count": null,
   "metadata": {
    "collapsed": true
   },
   "outputs": [],
   "source": []
  },
  {
   "cell_type": "markdown",
   "metadata": {
    "collapsed": true
   },
   "source": [
    "### calculating solar data"
   ]
  },
  {
   "cell_type": "code",
   "execution_count": null,
   "metadata": {
    "collapsed": true
   },
   "outputs": [],
   "source": []
  },
  {
   "cell_type": "markdown",
   "metadata": {
    "collapsed": true
   },
   "source": [
    "### temperature"
   ]
  },
  {
   "cell_type": "code",
   "execution_count": null,
   "metadata": {
    "collapsed": true
   },
   "outputs": [],
   "source": []
  },
  {
   "cell_type": "markdown",
   "metadata": {
    "collapsed": true
   },
   "source": [
    "### roughness length"
   ]
  },
  {
   "cell_type": "code",
   "execution_count": null,
   "metadata": {
    "collapsed": true
   },
   "outputs": [],
   "source": []
  },
  {
   "cell_type": "markdown",
   "metadata": {
    "collapsed": true
   },
   "source": [
    "## Compiling data package"
   ]
  },
  {
   "cell_type": "markdown",
   "metadata": {},
   "source": [
    "### netCDF"
   ]
  },
  {
   "cell_type": "code",
   "execution_count": null,
   "metadata": {
    "collapsed": true
   },
   "outputs": [],
   "source": []
  },
  {
   "cell_type": "markdown",
   "metadata": {},
   "source": [
    "### CSV"
   ]
  },
  {
   "cell_type": "code",
   "execution_count": null,
   "metadata": {
    "collapsed": true
   },
   "outputs": [],
   "source": []
  },
  {
   "cell_type": "markdown",
   "metadata": {},
   "source": [
    "### Metadata (JSON)\n",
    "The data packages meta data are created in the specific JSON format as proposed by the Open Knowledge Foundation. Please see the [Frictionless Data project by OKFN](http://data.okfn.org/) and the [Data Package specifications](http://dataprotocols.org/data-packages/) for more details.\n",
    "\n",
    "In order to keep the notebook more readable the metadata is written in the human-readable YAML format using a multi-line string and then parse the string into a Python dictionary and save is as a JSON file."
   ]
  },
  {
   "cell_type": "code",
   "execution_count": 1,
   "metadata": {
    "ExecuteTime": {
     "end_time": "2016-07-12T16:33:48.251403",
     "start_time": "2016-07-12T16:33:47.784356"
    },
    "collapsed": false
   },
   "outputs": [
    {
     "ename": "NameError",
     "evalue": "name 'yaml' is not defined",
     "output_type": "error",
     "traceback": [
      "\u001b[1;31m---------------------------------------------------------------------------\u001b[0m",
      "\u001b[1;31mNameError\u001b[0m                                 Traceback (most recent call last)",
      "\u001b[1;32m<ipython-input-1-f92c486df2c4>\u001b[0m in \u001b[0;36m<module>\u001b[1;34m()\u001b[0m\n\u001b[0;32m    187\u001b[0m \"\"\"\n\u001b[0;32m    188\u001b[0m \u001b[1;33m\u001b[0m\u001b[0m\n\u001b[1;32m--> 189\u001b[1;33m \u001b[0mmetadata\u001b[0m \u001b[1;33m=\u001b[0m \u001b[0myaml\u001b[0m\u001b[1;33m.\u001b[0m\u001b[0mload\u001b[0m\u001b[1;33m(\u001b[0m\u001b[0mmetadata\u001b[0m\u001b[1;33m)\u001b[0m\u001b[1;33m\u001b[0m\u001b[0m\n\u001b[0m\u001b[0;32m    190\u001b[0m \u001b[1;33m\u001b[0m\u001b[0m\n\u001b[0;32m    191\u001b[0m \u001b[0mdatapackage_json\u001b[0m \u001b[1;33m=\u001b[0m \u001b[0mjson\u001b[0m\u001b[1;33m.\u001b[0m\u001b[0mdumps\u001b[0m\u001b[1;33m(\u001b[0m\u001b[0mmetadata\u001b[0m\u001b[1;33m,\u001b[0m \u001b[0mindent\u001b[0m\u001b[1;33m=\u001b[0m\u001b[1;36m4\u001b[0m\u001b[1;33m,\u001b[0m \u001b[0mseparators\u001b[0m\u001b[1;33m=\u001b[0m\u001b[1;33m(\u001b[0m\u001b[1;34m','\u001b[0m\u001b[1;33m,\u001b[0m \u001b[1;34m': '\u001b[0m\u001b[1;33m)\u001b[0m\u001b[1;33m)\u001b[0m\u001b[1;33m\u001b[0m\u001b[0m\n",
      "\u001b[1;31mNameError\u001b[0m: name 'yaml' is not defined"
     ]
    }
   ],
   "source": [
    "'''\n",
    "Einzelne Felder der JSON-Datei anpassen (hier nur aus RE-Skript reinkopiert)!\n",
    "'''\n",
    "\n",
    "# The meta data follows the specification at:\n",
    "# http://dataprotocols.org/data-packages/\n",
    "    \n",
    "metadata = \"\"\"\n",
    "name: opsd-weather-data\n",
    "title: Script to obtain weather data\n",
    "description: >-\n",
    "    This data package aims to provide an introduction to the MERRRA-2 weather\n",
    "    dataset and a documented method to download, extract, organize and export\n",
    "    weather data for the use in energy system models.  \n",
    "version: \"2016-07-12\"\n",
    "keywords: [weather data register]\n",
    "geographical-scope: World\n",
    "resources:\n",
    "    - path: renewable_power_plants_germany.csv\n",
    "      format: csv\n",
    "      mediatype: text/csv\n",
    "      schema:         \n",
    "          fields:\n",
    "            - name: start_up_date\n",
    "              description: Date of start up/installation date\n",
    "              type: datetime\n",
    "              format: YYYY-MM-DDThh:mm:ssZ\n",
    "            - name: electrical_capacity\n",
    "              description: Installed electrical capacity in kW\n",
    "              type: number\n",
    "              format: float\n",
    "              unit: kW\n",
    "            - name: generation_type\n",
    "              description: Type of generation / energy source\n",
    "              type: text\n",
    "            - name: generation_subtype\n",
    "              description: Subtype of generation / energy source\n",
    "              type: text\n",
    "            - name: thermal_capacity\n",
    "              description: Installed thermal capacity in kW\n",
    "              type: number\n",
    "              format: float\n",
    "              unit: kW\n",
    "            - name: city\n",
    "              description: Name of location\n",
    "              type: text\n",
    "            - name: tso\n",
    "              description: Name of TSO  \n",
    "              type: text    \n",
    "            - name: lon\n",
    "              description: Longitude coordinates\n",
    "              type: geopoint\n",
    "              format: lon\n",
    "            - name: lat\n",
    "              description: Latitude coordinates \n",
    "              type: geopoint\n",
    "              format: lat\n",
    "            - name: eeg_id\n",
    "              description: EEG (German feed-in tariff law) remuneration number\n",
    "              type: text\n",
    "            - name: power_plant_id\n",
    "              description: Power plant identification number by BNetzA\n",
    "              type: text\n",
    "            - name: voltage_level\n",
    "              description: Voltage level of grid connection\n",
    "              type: text \n",
    "            - name: decommission_date\n",
    "              description: Date of decommission\n",
    "              type: datetime\n",
    "              format: YYYY-MM-DDThh:mm:ssZ  \n",
    "            - name: comment\n",
    "              description: Validation comments\n",
    "              type: text \n",
    "            - name: source\n",
    "              description: Source of database entry\n",
    "              type: text\n",
    "              source: TransnetBW, TenneT, Amprion, 50Hertz, BNetzA_PV, BNetzA\n",
    "    - path: renewable_capacity_germany_timeseries.csv\n",
    "      format: csv\n",
    "      mediatype: text/csv\n",
    "      schema:         \n",
    "          fields:\n",
    "            - name: timestamp\n",
    "              description: Start time of the day\n",
    "              type: datetime\n",
    "              format: YYYY-MM-DDThh:mm:ssZ\n",
    "            - name: capacity_biomass_de\n",
    "              description: Cumulated biomass electrical capacity\n",
    "              type: number\n",
    "            - name: capacity_wind_de\n",
    "              description: Cumulated wind capacity\n",
    "              type: number                 \n",
    "            - name: capacity_solar_de\n",
    "              description: Cumulated solar capacity\n",
    "              type: number                \n",
    "            - name: capacity_gas_de\n",
    "              description: Cumulated gas electrical capacity\n",
    "              type: number  \n",
    "            - name: capacity_geothermal_de\n",
    "              description: Cumulated geothermal electrical capacity\n",
    "              type: number \n",
    "            - name: capacity_hydro_de\n",
    "              description: Cumulated hydro capacity\n",
    "              type: number  \n",
    "    - path: renewable_power_plants_germany.xlsx\n",
    "      format: xlsx\n",
    "      mediatype: xlsx\n",
    "      schema:         \n",
    "          fields:\n",
    "            - name: start_up_date\n",
    "              description: Date of start up/installation date\n",
    "              type: datetime\n",
    "              format: YYYY-MM-DDThh:mm:ssZ\n",
    "            - name: electrical_capacity\n",
    "              description: Installed electrical capacity in kW\n",
    "              type: number\n",
    "              format: float\n",
    "              unit: kW\n",
    "            - name: generation_type\n",
    "              description: Type of generation / energy source\n",
    "              type: text\n",
    "            - name: generation_subtype\n",
    "              description: Subtype of generation / energy source\n",
    "              type: text\n",
    "            - name: thermal_capacity\n",
    "              description: Installed thermal capacity in kW\n",
    "              type: number\n",
    "              format: float\n",
    "              unit: kW\n",
    "            - name: city\n",
    "              description: Name of location\n",
    "              type: text\n",
    "            - name: tso\n",
    "              description: Name of TSO  \n",
    "              type: text    \n",
    "            - name: lon\n",
    "              description: Longitude coordinates\n",
    "              type: geopoint\n",
    "              format: lon\n",
    "            - name: lat\n",
    "              description: Latitude coordinates \n",
    "              type: geopoint\n",
    "              format: lat\n",
    "            - name: eeg_id\n",
    "              description: EEG (German feed-in tariff law) remuneration number\n",
    "              type: text\n",
    "            - name: power_plant_id\n",
    "              description: Power plant identification number by BNetzA\n",
    "              type: text\n",
    "            - name: voltage_level\n",
    "              description: Voltage level of grid connection\n",
    "              type: text \n",
    "            - name: decommission_date\n",
    "              description: Date of decommission\n",
    "              type: datetime\n",
    "              format: YYYY-MM-DDThh:mm:ssZ  \n",
    "            - name: comment\n",
    "              description: Validation comments\n",
    "              type: text \n",
    "            - name: source\n",
    "              description: Source of database entry\n",
    "              type: text\n",
    "              source: TransnetBW, TenneT, Amprion, 50Hertz, BNetzA_PV, BNetzA\n",
    "licenses:\n",
    "    - url: http://example.com/license/url/here\n",
    "      name: License Name Here\n",
    "      version: 1.0\n",
    "      id: license-id-from-open\n",
    "sources:\n",
    "    - name: Bundesnetzagentur - register of renewable power plants (excl. PV)\n",
    "      web: http://www.bundesnetzagentur.de/cln_1422/DE/Sachgebiete/ElektrizitaetundGas/Unternehmen_Institutionen/ErneuerbareEnergien/Anlagenregister/Anlagenregister_Veroeffentlichung/Anlagenregister_Veroeffentlichungen_node.html\n",
    "      source: BNetzA\n",
    "    - name: Bundesnetzagentur - register of PV power plants\n",
    "      web: http://www.bundesnetzagentur.de/cln_1431/DE/Sachgebiete/ElektrizitaetundGas/Unternehmen_Institutionen/ErneuerbareEnergien/Photovoltaik/DatenMeldgn_EEG-VergSaetze/DatenMeldgn_EEG-VergSaetze_node.html    \n",
    "      source: BNetzA_PV\n",
    "    - name: Netztransparenz.de - information platform of German TSOs (register of renewable power plants in their control area)\n",
    "      web: https://www.netztransparenz.de/de/Anlagenstammdaten.htm\n",
    "      source: TransnetBW, TenneT, Amprion, 50Hertz\n",
    "maintainers:\n",
    "    - name: Wolf-Dieter Bunke\n",
    "      email: wolf-dieter.bunke@uni-flensburg.de\n",
    "      web: http://open-power-system-data.org/\n",
    "views: True\n",
    "openpowersystemdata-enable-listing: True\n",
    "opsd-jupyter-notebook-url: https://github.com/Open-Power-System-Data/datapackage_renewable_power_plants/blob/master/main.ipynb\n",
    "opsd-changes-to-last-version: Update of output data \n",
    "\"\"\"\n",
    "\n",
    "metadata = yaml.load(metadata)\n",
    "\n",
    "datapackage_json = json.dumps(metadata, indent=4, separators=(',', ': '))\n",
    "\n",
    "# Write the information of the metadata\n",
    "with open(os.path.join(path_package, 'datapackage.json'), 'w') as f:\n",
    "    f.write(datapackage_json)"
   ]
  },
  {
   "cell_type": "code",
   "execution_count": null,
   "metadata": {
    "collapsed": true
   },
   "outputs": [],
   "source": []
  }
 ],
 "metadata": {
  "kernelspec": {
   "display_name": "Python [Root]",
   "language": "python",
   "name": "Python [Root]"
  },
  "language_info": {
   "codemirror_mode": {
    "name": "ipython",
    "version": 3
   },
   "file_extension": ".py",
   "mimetype": "text/x-python",
   "name": "python",
   "nbconvert_exporter": "python",
   "pygments_lexer": "ipython3",
   "version": "3.5.2"
  },
  "toc": {
   "toc_cell": true,
   "toc_number_sections": true,
   "toc_threshold": 6,
   "toc_window_display": false
  }
 },
 "nbformat": 4,
 "nbformat_minor": 0
}

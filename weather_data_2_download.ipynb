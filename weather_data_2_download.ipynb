{
 "cells": [
  {
   "cell_type": "markdown",
   "metadata": {
    "toc": "true"
   },
   "source": [
    "# Table of Contents\n",
    " <p><div class=\"lev1\"><a href=\"#How-to-obtain-weather-data-from-MERRA-2-(Part-2):-Download-raw-data\"><span class=\"toc-item-num\">1&nbsp;&nbsp;</span>How to obtain weather data from MERRA-2 (Part 2): Download raw data</a></div><div class=\"lev2\"><a href=\"#About-this-Notebook\"><span class=\"toc-item-num\">1.1&nbsp;&nbsp;</span>About this Notebook</a></div><div class=\"lev3\"><a href=\"#Other-notebooks\"><span class=\"toc-item-num\">1.1.1&nbsp;&nbsp;</span>Other notebooks</a></div><div class=\"lev3\"><a href=\"#License\"><span class=\"toc-item-num\">1.1.2&nbsp;&nbsp;</span>License</a></div><div class=\"lev3\"><a href=\"#Table-of-contents\"><span class=\"toc-item-num\">1.1.3&nbsp;&nbsp;</span>Table of contents</a></div><div class=\"lev1\"><a href=\"#Script-Setup\"><span class=\"toc-item-num\">2&nbsp;&nbsp;</span>Script Setup</a></div><div class=\"lev1\"><a href=\"#Download-raw-data\"><span class=\"toc-item-num\">3&nbsp;&nbsp;</span>Download raw data</a></div><div class=\"lev2\"><a href=\"#Input\"><span class=\"toc-item-num\">3.1&nbsp;&nbsp;</span>Input</a></div><div class=\"lev3\"><a href=\"#Parameters-choices\"><span class=\"toc-item-num\">3.1.1&nbsp;&nbsp;</span>Parameters choices</a></div><div class=\"lev3\"><a href=\"#Timeframe\"><span class=\"toc-item-num\">3.1.2&nbsp;&nbsp;</span>Timeframe</a></div><div class=\"lev3\"><a href=\"#Geography-coordinates\"><span class=\"toc-item-num\">3.1.3&nbsp;&nbsp;</span>Geography coordinates</a></div><div class=\"lev2\"><a href=\"#Subsetting-data\"><span class=\"toc-item-num\">3.2&nbsp;&nbsp;</span>Subsetting data</a></div><div class=\"lev2\"><a href=\"#Downloading-data\"><span class=\"toc-item-num\">3.3&nbsp;&nbsp;</span>Downloading data</a></div><div class=\"lev1\"><a href=\"#Setting-up-dataframe(s)\"><span class=\"toc-item-num\">4&nbsp;&nbsp;</span>Setting up dataframe(s)</a></div><div class=\"lev2\"><a href=\"#Concatenating/combining-individual-files\"><span class=\"toc-item-num\">4.1&nbsp;&nbsp;</span>Concatenating/combining individual files</a></div><div class=\"lev2\"><a href=\"#First-look-at-the-final-data-frame-structure-and-format\"><span class=\"toc-item-num\">4.2&nbsp;&nbsp;</span>First look at the final data frame structure and format</a></div><div class=\"lev2\"><a href=\"#Saving-dataframe\"><span class=\"toc-item-num\">4.3&nbsp;&nbsp;</span>Saving dataframe</a></div>"
   ]
  },
  {
   "cell_type": "markdown",
   "metadata": {},
   "source": [
    "# How to obtain weather data from MERRA-2 (Part 2): Download raw data"
   ]
  },
  {
   "cell_type": "markdown",
   "metadata": {},
   "source": [
    "## About this Notebook\n",
    "This Jupyter Notebook is part of the [Open Power System Data Project](http://www.open-power-system-data.org) and is written in Python 3. \n",
    "\n",
    "This is **Part 2** of the notebook. It aims to download data from the MERRRA-2 weather dataset.\n",
    "\n",
    "---\n",
    "\n",
    "### Other notebooks\n",
    "**Part 1**: Introduction\n",
    "\n",
    "**Part 3**: Processing raw data and compiling the data package\n",
    "\n",
    "### License\n",
    "\n",
    "This notebook is published under [The MIT License](https://opensource.org/licenses/mit-license.php) license:\n",
    "\n",
    "Copyright (c) 2016 [copyright holders]\n",
    "\n",
    "Permission is hereby granted, free of charge, to any person obtaining a copy of this software and associated documentation files (the \"Software\"), to deal in the Software without restriction, including without limitation the rights to use, copy, modify, merge, publish, distribute, sublicense, and/or sell copies of the Software, and to permit persons to whom the Software is furnished to do so, subject to the following conditions:\n",
    "\n",
    "The above copyright notice and this permission notice shall be included in all copies or substantial portions of the Software.\n",
    "\n",
    "THE SOFTWARE IS PROVIDED \"AS IS\", WITHOUT WARRANTY OF ANY KIND, EXPRESS OR IMPLIED, INCLUDING BUT NOT LIMITED TO THE WARRANTIES OF MERCHANTABILITY, FITNESS FOR A PARTICULAR PURPOSE AND NONINFRINGEMENT. IN NO EVENT SHALL THE AUTHORS OR COPYRIGHT HOLDERS BE LIABLE FOR ANY CLAIM, DAMAGES OR OTHER LIABILITY, WHETHER IN AN ACTION OF CONTRACT, TORT OR OTHERWISE, ARISING FROM, OUT OF OR IN CONNECTION WITH THE SOFTWARE OR THE USE OR OTHER DEALINGS IN THE SOFTWARE.\n",
    "\n",
    "### Table of contents\n",
    " <p><div class=\"lev2\"><a href=\"#About-this-Notebook\"><span class=\"toc-item-num\">1.1&nbsp;&nbsp;</span>About this Notebook</a></div><div class=\"lev3\"><a href=\"#Other-notebooks\"><span class=\"toc-item-num\">1.1.1&nbsp;&nbsp;</span>Other notebooks</a></div><div class=\"lev3\"><a href=\"#License\"><span class=\"toc-item-num\">1.1.2&nbsp;&nbsp;</span>License</a></div><div class=\"lev3\"><a href=\"#Table-of-contents\"><span class=\"toc-item-num\">1.1.3&nbsp;&nbsp;</span>Table of contents</a></div><div class=\"lev1\"><a href=\"#Script-Setup\"><span class=\"toc-item-num\">2&nbsp;&nbsp;</span>Script Setup</a></div><div class=\"lev1\"><a href=\"#Download-raw-data\"><span class=\"toc-item-num\">3&nbsp;&nbsp;</span>Download raw data</a></div><div class=\"lev2\"><a href=\"#Input\"><span class=\"toc-item-num\">3.1&nbsp;&nbsp;</span>Input</a></div><div class=\"lev3\"><a href=\"#Parameters-choices\"><span class=\"toc-item-num\">3.1.1&nbsp;&nbsp;</span>Parameters choices</a></div><div class=\"lev3\"><a href=\"#Timeframe\"><span class=\"toc-item-num\">3.1.2&nbsp;&nbsp;</span>Timeframe</a></div><div class=\"lev3\"><a href=\"#Geography-coordinates\"><span class=\"toc-item-num\">3.1.3&nbsp;&nbsp;</span>Geography coordinates</a></div><div class=\"lev2\"><a href=\"#Subsetting-data\"><span class=\"toc-item-num\">3.2&nbsp;&nbsp;</span>Subsetting data</a></div><div class=\"lev2\"><a href=\"#Downloading-data\"><span class=\"toc-item-num\">3.3&nbsp;&nbsp;</span>Downloading data</a></div><div class=\"lev1\"><a href=\"#Setting-up-dataframe(s)\"><span class=\"toc-item-num\">4&nbsp;&nbsp;</span>Setting up dataframe(s)</a></div><div class=\"lev2\"><a href=\"#Concatenating/combining-individual-files\"><span class=\"toc-item-num\">4.1&nbsp;&nbsp;</span>Concatenating/combining individual files</a></div><div class=\"lev2\"><a href=\"#First-look-at-the-final-data-frame-structure-and-format\"><span class=\"toc-item-num\">4.2&nbsp;&nbsp;</span>First look at the final data frame structure and format</a></div><div class=\"lev2\"><a href=\"#Saving-dataframe\"><span class=\"toc-item-num\">4.3&nbsp;&nbsp;</span>Saving dataframe</a></div>\n",
    " \n",
    "***"
   ]
  },
  {
   "cell_type": "markdown",
   "metadata": {
    "collapsed": true
   },
   "source": [
    "# Script Setup"
   ]
  },
  {
   "cell_type": "code",
   "execution_count": 1,
   "metadata": {
    "collapsed": true
   },
   "outputs": [],
   "source": [
    "# importing all necessary Python libraries for this Script\n",
    "import pandas as pd\n",
    "import xarray as xr\n",
    "import requests\n",
    "import logging\n",
    "import os\n",
    "import datetime\n",
    "from calendar import monthrange\n",
    "\n",
    "# Set up a log\n",
    "log = logging.getLogger('notebook')\n",
    "log.setLevel(logging.DEBUG)\n",
    "log.addHandler(logging.StreamHandler())\n",
    "nb_root_logger = logging.getLogger()\n",
    "formatter = logging.Formatter('%(asctime)s - %(name)s - %(levelname)s'\\\n",
    "                              '- %(message)s',datefmt='%d %b %Y %H:%M:%S')\n",
    "nb_root_logger.handlers[0].setFormatter(formatter)\n",
    "\n",
    "# create download folder\n",
    "os.makedirs('download', exist_ok=True)\n",
    "# os.makedirs('output', exist_ok=True)\n",
    "# os.makedirs('output/datapackage_renewables', exist_ok=True)"
   ]
  },
  {
   "cell_type": "markdown",
   "metadata": {
    "collapsed": true
   },
   "source": [
    "---\n",
    "# Download raw data"
   ]
  },
  {
   "cell_type": "markdown",
   "metadata": {
    "collapsed": true
   },
   "source": [
    "## Input\n",
    "### Parameters choices\n",
    "Definition of Input parameters for creating URL with OPeNDAP. Which parameters shall be included in the weather data package?\n",
    "\n",
    "**general parameters**\n",
    "- tavg1_2d_slv_Nx = M2T1NXSLV:\n",
    "  - H850: Height at 850 hPa\n",
    "  - H500: Height at 500 hPa\n",
    "  - H250: Height at 250 hPa\n",
    "  - DISPH: Displacement height\n",
    "  - ftp://goldsmr4.sci.gsfc.nasa.gov/data/s4pa/MERRA2/M2T1NXSLV.5.12.4/\n",
    "  - via OPenDAP: http://goldsmr4.sci.gsfc.nasa.gov/opendap/MERRA2/M2T1NXSLV.5.12.4/contents.html\n",
    "  \n",
    "**Wind Speed** \n",
    "- tavg1_2d_slv_Nx = M2T1NXSLV\n",
    "  - U2M: Eastward wind at 2 m above displacement height\n",
    "  - U10M: Eastward wind at 10 m above displacement height\n",
    "  - U50M: Eastward wind at 50 m above surface\n",
    "  - U850: Eastward wind at 850 hPa\n",
    "  - U500: Eastward wind at 500 hPa\n",
    "  - U250: Eastward wind at 250 hPa\n",
    "  - V2M: Northward wind at 2 m above displacement height\n",
    "  - V10M: Northward wind at 10 m above displacement height\n",
    "  - V50M: Northward wind at 50 m above surface\n",
    "  - V850: Northward wind at 850 hPa\n",
    "  - V500: Northward wind at 500 hPa\n",
    "  - V250: Northward wind at 250 hPa\n",
    "  - ftp://goldsmr4.sci.gsfc.nasa.gov/data/s4pa/MERRA2/M2T1NXSLV.5.12.4/\n",
    "  - via OPenDAP: http://goldsmr4.sci.gsfc.nasa.gov/opendap/MERRA2/M2T1NXSLV.5.12.4/contents.html\n",
    "  \n",
    "- tavg1_2d_flx_Nx = M2T1NXFLX:\n",
    "  - Z0M: Roughness length, momentum\n",
    "  - ftp://goldsmr4.sci.gsfc.nasa.gov/data/s4pa/MERRA2/M2T1NXFLX.5.12.4/\n",
    "  - via OPenDAP: http://goldsmr4.sci.gsfc.nasa.gov/opendap/MERRA2/M2T1NXFLX.5.12.4/contents.html\n",
    "\n",
    "später: **Temperature** (tavg1_2d_slv_Nx = M2T1NXSLV)\n",
    "- TS: Surface skin temperature\n",
    "- T2M Temperature at 2 m above the displacement height\n",
    "- T10M: Temperature at 10 m above the displacement height\n",
    "- T850: Temperature at 850 hPa\n",
    "- T500: Temperature at 500 hPa\n",
    "- T250: Temperature at 250 hPa\n",
    "- ftp://goldsmr4.sci.gsfc.nasa.gov/data/s4pa/MERRA2/M2T1NXSLV.5.12.4/\n",
    "- via OPenDAP: http://goldsmr4.sci.gsfc.nasa.gov/opendap/MERRA2/M2T1NXSLV.5.12.4/contents.html\n",
    "\n",
    "später: **Solar Radiation** (tavg1_2d_rad_Nx = M2T1NXRAD)\n",
    "- SWGDN: Surface incident shortwave flux (incident = einfallender Strahl)\n",
    "- SWGDNCLR: Surface incident shortwave flux assuming clear sky\n",
    "- SWGNT: Surface net downward shortwave flux\n",
    "- SWGNTCLR: Surface net downward shortwave flux assuming clear sky\n",
    "- SWGNTCLN: Surface net downward shortwave flux assuming clean sky\n",
    "- SWGNTCLRCLN: Surface net downward shortwave flux assuming clear clean sky\n",
    "- SWTDN: top-of-atmosphere incoming shortwave flux\n",
    "- _possibly more_\n",
    "- ftp://goldsmr4.sci.gsfc.nasa.gov/data/s4pa/MERRA2/M2T1NXRAD.5.12.4/\n",
    "- via OPenDAP: http://goldsmr4.sci.gsfc.nasa.gov/opendap/MERRA2/M2T1NXRAD.5.12.4/contents.html"
   ]
  },
  {
   "cell_type": "markdown",
   "metadata": {},
   "source": [
    "### Parameter selection \n",
    "These are the possible parameters:\n",
    "* wind\n",
    "* solar radiation\n",
    "* temperature\n",
    "\n",
    "If you want to select more than one parameter, separate them with commas. For example: wind, solar radiation, temperature"
   ]
  },
  {
   "cell_type": "code",
   "execution_count": 2,
   "metadata": {
    "ExecuteTime": {
     "end_time": "2016-07-12T17:02:07.640325",
     "start_time": "2016-07-12T17:02:07.584319"
    },
    "collapsed": false,
    "scrolled": true
   },
   "outputs": [],
   "source": [
    "# Getting user input\n",
    "possible_params = ['wind', 'solar radiation', 'temperature']\n",
    "\n",
    "def test_user_input(para):\n",
    "    '''Tests if too few or too many parameters are provided and if the parameters are legit.'''\n",
    "    if len(para) < 1 or len(para) > 3:\n",
    "        return False\n",
    "    for p in para:\n",
    "        if p not in possible_params:\n",
    "            return False\n",
    "        else: \n",
    "            pass\n",
    "    return True\n",
    "\n",
    "\n",
    "# params = input('Please provide atleast one parameter: ')\n",
    "# params = params.split(',')\n",
    "# removes whitespace in front of the provided parameters.\n",
    "# params = [p.lstrip() for p in params]\n",
    "    \n",
    "# if not test_user_input(params):\n",
    "#    raise Exception('Something is wrong with the provided parameters: '+str(params))\n",
    "# params\n",
    "\n",
    "# for testing\n",
    "params = ['wind']"
   ]
  },
  {
   "cell_type": "code",
   "execution_count": 3,
   "metadata": {
    "collapsed": true
   },
   "outputs": [],
   "source": [
    "# \"translation\" of input to list of needed dataset parameters (see above)\n",
    "# download general parameters always\n",
    "# download other parameters/datasets only when needed (see list above)\n",
    "\n",
    "BASE_URL = 'http://goldsmr4.sci.gsfc.nasa.gov:80/opendap/MERRA2/M2T1NXSLV.5.12.4/'\n"
   ]
  },
  {
   "cell_type": "markdown",
   "metadata": {},
   "source": [
    "### Timeframe\n",
    "\n",
    "Definition of desired timespan data is needed for. (Optional: daily, monthly, yearly aggregation)"
   ]
  },
  {
   "cell_type": "code",
   "execution_count": 4,
   "metadata": {
    "collapsed": false
   },
   "outputs": [],
   "source": [
    "# TODO: User input \n",
    "# User input of timespan\n",
    "download_year = 2014 # Testcase Schlewswig Holstein, 2014, hourly data\n",
    "download_month = '01'\n",
    "download_day = '01'\n",
    "\n"
   ]
  },
  {
   "cell_type": "markdown",
   "metadata": {},
   "source": [
    "### Geography coordinates\n",
    "Definition of desired coordinates (rectangular area) data is needed for -> corner coordinates input"
   ]
  },
  {
   "cell_type": "code",
   "execution_count": 5,
   "metadata": {
    "ExecuteTime": {
     "end_time": "2016-07-12T17:24:14.539011",
     "start_time": "2016-07-12T17:24:14.526010"
    },
    "collapsed": true
   },
   "outputs": [],
   "source": [
    "# User input of coordinates\n",
    "# ------\n",
    "# Bsp. Schleswig-Holstein (lat/lon in WGS84 Dezimalgrad)\n",
    "# Nordost-Punkt; 55,036823°N, 11,349297°E\n",
    "# Südwest-Punkt; 53,366266°N, 7,887088°E\n",
    "\n",
    "# one point example - not in use\n",
    "lat = 0\n",
    "lon = 0\n"
   ]
  },
  {
   "cell_type": "markdown",
   "metadata": {
    "collapsed": true
   },
   "source": [
    "## Subsetting data"
   ]
  },
  {
   "cell_type": "markdown",
   "metadata": {
    "collapsed": true
   },
   "source": [
    "Combining parameter choices above/translation according to OPenDAP guidelines into URL-appendix"
   ]
  },
  {
   "cell_type": "code",
   "execution_count": 6,
   "metadata": {
    "collapsed": false,
    "scrolled": true
   },
   "outputs": [
    {
     "name": "stdout",
     "output_type": "stream",
     "text": [
      "Queries generated: 365\n"
     ]
    }
   ],
   "source": [
    "'''\n",
    "\"translation\" of input to desired URL parameter\n",
    "Creation of links to relevant datasets (see above) with chosen parameters\n",
    "add URL parameter to dataset link\n",
    "dataset links see above\n",
    "Beispiel-Schema für Wind-Dataset tavg1_2d_slv_Nx (unterteilt in tägliche Datensätze):\n",
    "Link für Datensatz für 01.01.1980: http://goldsmr4.sci.gsfc.nasa.gov/opendap/MERRA2/M2T1NXSLV.5.12.4/1980/01/MERRA2_100.tavg1_2d_slv_Nx.19800101.nc4\n",
    "-> Lädt kompletten Datensatz herunter (alle Parameter, gesamte Welt, 24 Stunden)\n",
    "-> .html anhängen = manualles subsetting\n",
    "z.B. time [0:1:23] = jeder Zeitschritt (hier:Stunde) zwischen 0 und 23 Uhr, [0:2:23] = nur jede 2. Stunde etc.\n",
    "z.B. lat/lon in Schritten angegeben\n",
    "- latitude (Breitengrad Nord/Süd) 360*0,5°-Schritte\n",
    "- longitude (Längengrad Ost/West) 575*0,625°-Schritte\n",
    "'''\n",
    "\n",
    "def translate_year_to_file_number(year):\n",
    "    \"\"\"The file names basically consist of a number and a meta data string. The number changes over the year. 1980\n",
    "       until 1991 it is 100, 1992 until 2000 it is 200, 2001 until 2010 it is 300 and from 2011 until now it is 400.\n",
    "    \"\"\"\n",
    "    file_number = ''\n",
    "    \n",
    "    if year >= 1980 and year < 1992:\n",
    "        file_number = '100'\n",
    "    elif year >= 1992 and year < 2001:\n",
    "        file_number = '200'\n",
    "    elif year >= 2001 and year < 2011:\n",
    "        file_number = '300'\n",
    "    elif year >= 2011:\n",
    "        file_number = '400'\n",
    "    else:\n",
    "        raise Exception('The specified year is out of range.')\n",
    "    \n",
    "    return file_number\n",
    "    \n",
    "#file_name = 'MERRA2_' + translate_year_to_file_number(download_year) + '.tavg1_2d_slv_Nx.' \\\n",
    "#            + str(download_year) + download_month + download_day + '.nc4'\n",
    "\n",
    "# Build the parameter\n",
    "# no need to query for disph\n",
    "url_params = ['U2M']# ,'U10M','U50M','V2M','V10M','V50M']\n",
    "# time\n",
    "url_params = map(lambda x: x + '[0:1:23]' , url_params)\n",
    "# lat\n",
    "url_params = map(lambda x: x + '[360]', url_params)\n",
    "# lon\n",
    "url_params = map(lambda x: x + '[575]', url_params) \n",
    "\n",
    "url_params = ','.join(url_params)\n",
    "    \n",
    "    \n",
    "    \n",
    "generated_URL = []\n",
    "# generate the download links\n",
    "for y in [download_year]: # only for testing\n",
    "    # build the file_number\n",
    "    y_str = str(y)\n",
    "    file_num = translate_year_to_file_number(download_year)\n",
    "    for m in range(1,13):\n",
    "        # build the month string: for the month 1 - 9 it starts with a leading 0. zfill solves that problem\n",
    "        m_str = str(m).zfill(2)\n",
    "        # monthrange returns the first weekday and the number of days in a month. Also works for leap years.\n",
    "        _, nr_of_days = monthrange(y, m)\n",
    "        for d in range(1,nr_of_days+1):\n",
    "            d_str = str(d).zfill(2)\n",
    "            file_name = 'MERRA2_' + file_num + '.tavg1_2d_slv_Nx.' + y_str + m_str + d_str + '.nc4'\n",
    "            query = BASE_URL  + y_str + '/'+ m_str + '/' + file_name + '.nc4?' + url_params    \n",
    "            file_path = file_path = os.path.join(os.curdir, 'download', file_name)\n",
    "            generated_URL.append([query,file_name,file_path])\n",
    "            \n",
    "            \n",
    "\n",
    "print('Queries generated: ' + str(len(generated_URL)))\n",
    "\n"
   ]
  },
  {
   "cell_type": "markdown",
   "metadata": {
    "collapsed": true
   },
   "source": [
    "## Downloading data"
   ]
  },
  {
   "cell_type": "code",
   "execution_count": 7,
   "metadata": {
    "collapsed": false,
    "scrolled": true
   },
   "outputs": [
    {
     "name": "stdout",
     "output_type": "stream",
     "text": [
      "Wall time: 7.37 s\n",
      "Wall time: 10.3 s\n",
      "Wall time: 7.44 s\n",
      "Wall time: 6.75 s\n",
      "Wall time: 5.45 s\n",
      "Wall time: 5.13 s\n",
      "Wall time: 6.41 s\n",
      "Wall time: 5.8 s\n",
      "Wall time: 5.97 s\n",
      "Wall time: 6.81 s\n",
      "Wall time: 6.12 s\n",
      "Wall time: 6.51 s\n",
      "Wall time: 6.62 s\n",
      "Wall time: 5.95 s\n",
      "Wall time: 4.82 s\n",
      "Wall time: 6.79 s\n",
      "Wall time: 7.26 s\n",
      "Wall time: 9.17 s\n",
      "Wall time: 6.89 s\n",
      "Wall time: 8.88 s\n",
      "Wall time: 13.2 s\n",
      "Wall time: 11 s\n",
      "Wall time: 7.13 s\n",
      "Wall time: 6.68 s\n",
      "Wall time: 9.68 s\n",
      "Wall time: 7.07 s\n",
      "Wall time: 6.92 s\n",
      "Wall time: 9.45 s\n",
      "Wall time: 8.25 s\n",
      "Downloading files - Files left: 335\n",
      "Wall time: 7.15 s\n",
      "Wall time: 9.03 s\n"
     ]
    },
    {
     "ename": "KeyboardInterrupt",
     "evalue": "",
     "output_type": "error",
     "traceback": [
      "\u001b[1;31m---------------------------------------------------------------------------\u001b[0m",
      "\u001b[1;31mTypeError\u001b[0m                                 Traceback (most recent call last)",
      "\u001b[1;32mC:\\Users\\KRa\\Anaconda3\\lib\\site-packages\\requests\\packages\\urllib3\\connectionpool.py\u001b[0m in \u001b[0;36m_make_request\u001b[1;34m(self, conn, method, url, timeout, chunked, **httplib_request_kw)\u001b[0m\n\u001b[0;32m    384\u001b[0m             \u001b[1;32mtry\u001b[0m\u001b[1;33m:\u001b[0m  \u001b[1;31m# Python 2.7, use buffering of HTTP responses\u001b[0m\u001b[1;33m\u001b[0m\u001b[0m\n\u001b[1;32m--> 385\u001b[1;33m                 \u001b[0mhttplib_response\u001b[0m \u001b[1;33m=\u001b[0m \u001b[0mconn\u001b[0m\u001b[1;33m.\u001b[0m\u001b[0mgetresponse\u001b[0m\u001b[1;33m(\u001b[0m\u001b[0mbuffering\u001b[0m\u001b[1;33m=\u001b[0m\u001b[1;32mTrue\u001b[0m\u001b[1;33m)\u001b[0m\u001b[1;33m\u001b[0m\u001b[0m\n\u001b[0m\u001b[0;32m    386\u001b[0m             \u001b[1;32mexcept\u001b[0m \u001b[0mTypeError\u001b[0m\u001b[1;33m:\u001b[0m  \u001b[1;31m# Python 2.6 and older\u001b[0m\u001b[1;33m\u001b[0m\u001b[0m\n",
      "\u001b[1;31mTypeError\u001b[0m: getresponse() got an unexpected keyword argument 'buffering'",
      "\nDuring handling of the above exception, another exception occurred:\n",
      "\u001b[1;31mKeyboardInterrupt\u001b[0m                         Traceback (most recent call last)",
      "\u001b[1;32m<ipython-input-7-c1277b17e2eb>\u001b[0m in \u001b[0;36m<module>\u001b[1;34m()\u001b[0m\n\u001b[0;32m     28\u001b[0m     \u001b[1;32mif\u001b[0m \u001b[1;33m(\u001b[0m\u001b[0mcounter\u001b[0m \u001b[1;33m%\u001b[0m \u001b[1;36m30\u001b[0m\u001b[1;33m)\u001b[0m \u001b[1;33m==\u001b[0m \u001b[1;36m0\u001b[0m\u001b[1;33m:\u001b[0m\u001b[1;33m\u001b[0m\u001b[0m\n\u001b[0;32m     29\u001b[0m         \u001b[0mprint\u001b[0m\u001b[1;33m(\u001b[0m\u001b[1;34m'Downloading files - Files left: '\u001b[0m \u001b[1;33m+\u001b[0m  \u001b[0mstr\u001b[0m\u001b[1;33m(\u001b[0m\u001b[1;33m(\u001b[0m\u001b[0mlen\u001b[0m\u001b[1;33m(\u001b[0m\u001b[0mgenerated_URL\u001b[0m\u001b[1;33m)\u001b[0m \u001b[1;33m-\u001b[0m \u001b[0mcounter\u001b[0m\u001b[1;33m)\u001b[0m\u001b[1;33m)\u001b[0m\u001b[1;33m)\u001b[0m\u001b[1;33m\u001b[0m\u001b[0m\n\u001b[1;32m---> 30\u001b[1;33m     \u001b[0mget_ipython\u001b[0m\u001b[1;33m(\u001b[0m\u001b[1;33m)\u001b[0m\u001b[1;33m.\u001b[0m\u001b[0mmagic\u001b[0m\u001b[1;33m(\u001b[0m\u001b[1;34m'time download_and_save_file(query, file_path)'\u001b[0m\u001b[1;33m)\u001b[0m\u001b[1;33m\u001b[0m\u001b[0m\n\u001b[0m\u001b[0;32m     31\u001b[0m \u001b[1;33m\u001b[0m\u001b[0m\n\u001b[0;32m     32\u001b[0m \u001b[1;33m\u001b[0m\u001b[0m\n",
      "\u001b[1;32mC:\\Users\\KRa\\Anaconda3\\lib\\site-packages\\IPython\\core\\interactiveshell.py\u001b[0m in \u001b[0;36mmagic\u001b[1;34m(self, arg_s)\u001b[0m\n\u001b[0;32m   2161\u001b[0m         \u001b[0mmagic_name\u001b[0m\u001b[1;33m,\u001b[0m \u001b[0m_\u001b[0m\u001b[1;33m,\u001b[0m \u001b[0mmagic_arg_s\u001b[0m \u001b[1;33m=\u001b[0m \u001b[0marg_s\u001b[0m\u001b[1;33m.\u001b[0m\u001b[0mpartition\u001b[0m\u001b[1;33m(\u001b[0m\u001b[1;34m' '\u001b[0m\u001b[1;33m)\u001b[0m\u001b[1;33m\u001b[0m\u001b[0m\n\u001b[0;32m   2162\u001b[0m         \u001b[0mmagic_name\u001b[0m \u001b[1;33m=\u001b[0m \u001b[0mmagic_name\u001b[0m\u001b[1;33m.\u001b[0m\u001b[0mlstrip\u001b[0m\u001b[1;33m(\u001b[0m\u001b[0mprefilter\u001b[0m\u001b[1;33m.\u001b[0m\u001b[0mESC_MAGIC\u001b[0m\u001b[1;33m)\u001b[0m\u001b[1;33m\u001b[0m\u001b[0m\n\u001b[1;32m-> 2163\u001b[1;33m         \u001b[1;32mreturn\u001b[0m \u001b[0mself\u001b[0m\u001b[1;33m.\u001b[0m\u001b[0mrun_line_magic\u001b[0m\u001b[1;33m(\u001b[0m\u001b[0mmagic_name\u001b[0m\u001b[1;33m,\u001b[0m \u001b[0mmagic_arg_s\u001b[0m\u001b[1;33m)\u001b[0m\u001b[1;33m\u001b[0m\u001b[0m\n\u001b[0m\u001b[0;32m   2164\u001b[0m \u001b[1;33m\u001b[0m\u001b[0m\n\u001b[0;32m   2165\u001b[0m     \u001b[1;31m#-------------------------------------------------------------------------\u001b[0m\u001b[1;33m\u001b[0m\u001b[1;33m\u001b[0m\u001b[0m\n",
      "\u001b[1;32mC:\\Users\\KRa\\Anaconda3\\lib\\site-packages\\IPython\\core\\interactiveshell.py\u001b[0m in \u001b[0;36mrun_line_magic\u001b[1;34m(self, magic_name, line)\u001b[0m\n\u001b[0;32m   2082\u001b[0m                 \u001b[0mkwargs\u001b[0m\u001b[1;33m[\u001b[0m\u001b[1;34m'local_ns'\u001b[0m\u001b[1;33m]\u001b[0m \u001b[1;33m=\u001b[0m \u001b[0msys\u001b[0m\u001b[1;33m.\u001b[0m\u001b[0m_getframe\u001b[0m\u001b[1;33m(\u001b[0m\u001b[0mstack_depth\u001b[0m\u001b[1;33m)\u001b[0m\u001b[1;33m.\u001b[0m\u001b[0mf_locals\u001b[0m\u001b[1;33m\u001b[0m\u001b[0m\n\u001b[0;32m   2083\u001b[0m             \u001b[1;32mwith\u001b[0m \u001b[0mself\u001b[0m\u001b[1;33m.\u001b[0m\u001b[0mbuiltin_trap\u001b[0m\u001b[1;33m:\u001b[0m\u001b[1;33m\u001b[0m\u001b[0m\n\u001b[1;32m-> 2084\u001b[1;33m                 \u001b[0mresult\u001b[0m \u001b[1;33m=\u001b[0m \u001b[0mfn\u001b[0m\u001b[1;33m(\u001b[0m\u001b[1;33m*\u001b[0m\u001b[0margs\u001b[0m\u001b[1;33m,\u001b[0m\u001b[1;33m**\u001b[0m\u001b[0mkwargs\u001b[0m\u001b[1;33m)\u001b[0m\u001b[1;33m\u001b[0m\u001b[0m\n\u001b[0m\u001b[0;32m   2085\u001b[0m             \u001b[1;32mreturn\u001b[0m \u001b[0mresult\u001b[0m\u001b[1;33m\u001b[0m\u001b[0m\n\u001b[0;32m   2086\u001b[0m \u001b[1;33m\u001b[0m\u001b[0m\n",
      "\u001b[1;32m<decorator-gen-61>\u001b[0m in \u001b[0;36mtime\u001b[1;34m(self, line, cell, local_ns)\u001b[0m\n",
      "\u001b[1;32mC:\\Users\\KRa\\Anaconda3\\lib\\site-packages\\IPython\\core\\magic.py\u001b[0m in \u001b[0;36m<lambda>\u001b[1;34m(f, *a, **k)\u001b[0m\n\u001b[0;32m    191\u001b[0m     \u001b[1;31m# but it's overkill for just that one bit of state.\u001b[0m\u001b[1;33m\u001b[0m\u001b[1;33m\u001b[0m\u001b[0m\n\u001b[0;32m    192\u001b[0m     \u001b[1;32mdef\u001b[0m \u001b[0mmagic_deco\u001b[0m\u001b[1;33m(\u001b[0m\u001b[0marg\u001b[0m\u001b[1;33m)\u001b[0m\u001b[1;33m:\u001b[0m\u001b[1;33m\u001b[0m\u001b[0m\n\u001b[1;32m--> 193\u001b[1;33m         \u001b[0mcall\u001b[0m \u001b[1;33m=\u001b[0m \u001b[1;32mlambda\u001b[0m \u001b[0mf\u001b[0m\u001b[1;33m,\u001b[0m \u001b[1;33m*\u001b[0m\u001b[0ma\u001b[0m\u001b[1;33m,\u001b[0m \u001b[1;33m**\u001b[0m\u001b[0mk\u001b[0m\u001b[1;33m:\u001b[0m \u001b[0mf\u001b[0m\u001b[1;33m(\u001b[0m\u001b[1;33m*\u001b[0m\u001b[0ma\u001b[0m\u001b[1;33m,\u001b[0m \u001b[1;33m**\u001b[0m\u001b[0mk\u001b[0m\u001b[1;33m)\u001b[0m\u001b[1;33m\u001b[0m\u001b[0m\n\u001b[0m\u001b[0;32m    194\u001b[0m \u001b[1;33m\u001b[0m\u001b[0m\n\u001b[0;32m    195\u001b[0m         \u001b[1;32mif\u001b[0m \u001b[0mcallable\u001b[0m\u001b[1;33m(\u001b[0m\u001b[0marg\u001b[0m\u001b[1;33m)\u001b[0m\u001b[1;33m:\u001b[0m\u001b[1;33m\u001b[0m\u001b[0m\n",
      "\u001b[1;32mC:\\Users\\KRa\\Anaconda3\\lib\\site-packages\\IPython\\core\\magics\\execution.py\u001b[0m in \u001b[0;36mtime\u001b[1;34m(self, line, cell, local_ns)\u001b[0m\n\u001b[0;32m   1171\u001b[0m         \u001b[1;32mif\u001b[0m \u001b[0mmode\u001b[0m\u001b[1;33m==\u001b[0m\u001b[1;34m'eval'\u001b[0m\u001b[1;33m:\u001b[0m\u001b[1;33m\u001b[0m\u001b[0m\n\u001b[0;32m   1172\u001b[0m             \u001b[0mst\u001b[0m \u001b[1;33m=\u001b[0m \u001b[0mclock2\u001b[0m\u001b[1;33m(\u001b[0m\u001b[1;33m)\u001b[0m\u001b[1;33m\u001b[0m\u001b[0m\n\u001b[1;32m-> 1173\u001b[1;33m             \u001b[0mout\u001b[0m \u001b[1;33m=\u001b[0m \u001b[0meval\u001b[0m\u001b[1;33m(\u001b[0m\u001b[0mcode\u001b[0m\u001b[1;33m,\u001b[0m \u001b[0mglob\u001b[0m\u001b[1;33m,\u001b[0m \u001b[0mlocal_ns\u001b[0m\u001b[1;33m)\u001b[0m\u001b[1;33m\u001b[0m\u001b[0m\n\u001b[0m\u001b[0;32m   1174\u001b[0m             \u001b[0mend\u001b[0m \u001b[1;33m=\u001b[0m \u001b[0mclock2\u001b[0m\u001b[1;33m(\u001b[0m\u001b[1;33m)\u001b[0m\u001b[1;33m\u001b[0m\u001b[0m\n\u001b[0;32m   1175\u001b[0m         \u001b[1;32melse\u001b[0m\u001b[1;33m:\u001b[0m\u001b[1;33m\u001b[0m\u001b[0m\n",
      "\u001b[1;32m<timed eval>\u001b[0m in \u001b[0;36m<module>\u001b[1;34m()\u001b[0m\n",
      "\u001b[1;32m<ipython-input-7-c1277b17e2eb>\u001b[0m in \u001b[0;36mdownload_and_save_file\u001b[1;34m(url, file_path)\u001b[0m\n\u001b[0;32m      8\u001b[0m     \u001b[0mcounter\u001b[0m \u001b[1;33m=\u001b[0m \u001b[1;36m0\u001b[0m\u001b[1;33m\u001b[0m\u001b[0m\n\u001b[0;32m      9\u001b[0m     \u001b[1;31m# NOTE the stream=True parameter\u001b[0m\u001b[1;33m\u001b[0m\u001b[1;33m\u001b[0m\u001b[0m\n\u001b[1;32m---> 10\u001b[1;33m     \u001b[0mr\u001b[0m \u001b[1;33m=\u001b[0m \u001b[0mrequests\u001b[0m\u001b[1;33m.\u001b[0m\u001b[0mget\u001b[0m\u001b[1;33m(\u001b[0m\u001b[0murl\u001b[0m\u001b[1;33m,\u001b[0m \u001b[0mstream\u001b[0m\u001b[1;33m=\u001b[0m\u001b[1;32mTrue\u001b[0m\u001b[1;33m)\u001b[0m\u001b[1;33m\u001b[0m\u001b[0m\n\u001b[0m\u001b[0;32m     11\u001b[0m     \u001b[1;32mwith\u001b[0m \u001b[0mopen\u001b[0m\u001b[1;33m(\u001b[0m\u001b[0mfile_path\u001b[0m\u001b[1;33m,\u001b[0m \u001b[1;34m'wb'\u001b[0m\u001b[1;33m)\u001b[0m \u001b[1;32mas\u001b[0m \u001b[0mf\u001b[0m\u001b[1;33m:\u001b[0m\u001b[1;33m\u001b[0m\u001b[0m\n\u001b[0;32m     12\u001b[0m         \u001b[1;32mfor\u001b[0m \u001b[0mchunk\u001b[0m \u001b[1;32min\u001b[0m \u001b[0mr\u001b[0m\u001b[1;33m.\u001b[0m\u001b[0miter_content\u001b[0m\u001b[1;33m(\u001b[0m\u001b[0mchunk_size\u001b[0m\u001b[1;33m=\u001b[0m\u001b[1;36m1024\u001b[0m\u001b[1;33m)\u001b[0m\u001b[1;33m:\u001b[0m\u001b[1;33m\u001b[0m\u001b[0m\n",
      "\u001b[1;32mC:\\Users\\KRa\\Anaconda3\\lib\\site-packages\\requests\\api.py\u001b[0m in \u001b[0;36mget\u001b[1;34m(url, params, **kwargs)\u001b[0m\n\u001b[0;32m     69\u001b[0m \u001b[1;33m\u001b[0m\u001b[0m\n\u001b[0;32m     70\u001b[0m     \u001b[0mkwargs\u001b[0m\u001b[1;33m.\u001b[0m\u001b[0msetdefault\u001b[0m\u001b[1;33m(\u001b[0m\u001b[1;34m'allow_redirects'\u001b[0m\u001b[1;33m,\u001b[0m \u001b[1;32mTrue\u001b[0m\u001b[1;33m)\u001b[0m\u001b[1;33m\u001b[0m\u001b[0m\n\u001b[1;32m---> 71\u001b[1;33m     \u001b[1;32mreturn\u001b[0m \u001b[0mrequest\u001b[0m\u001b[1;33m(\u001b[0m\u001b[1;34m'get'\u001b[0m\u001b[1;33m,\u001b[0m \u001b[0murl\u001b[0m\u001b[1;33m,\u001b[0m \u001b[0mparams\u001b[0m\u001b[1;33m=\u001b[0m\u001b[0mparams\u001b[0m\u001b[1;33m,\u001b[0m \u001b[1;33m**\u001b[0m\u001b[0mkwargs\u001b[0m\u001b[1;33m)\u001b[0m\u001b[1;33m\u001b[0m\u001b[0m\n\u001b[0m\u001b[0;32m     72\u001b[0m \u001b[1;33m\u001b[0m\u001b[0m\n\u001b[0;32m     73\u001b[0m \u001b[1;33m\u001b[0m\u001b[0m\n",
      "\u001b[1;32mC:\\Users\\KRa\\Anaconda3\\lib\\site-packages\\requests\\api.py\u001b[0m in \u001b[0;36mrequest\u001b[1;34m(method, url, **kwargs)\u001b[0m\n\u001b[0;32m     55\u001b[0m     \u001b[1;31m# cases, and look like a memory leak in others.\u001b[0m\u001b[1;33m\u001b[0m\u001b[1;33m\u001b[0m\u001b[0m\n\u001b[0;32m     56\u001b[0m     \u001b[1;32mwith\u001b[0m \u001b[0msessions\u001b[0m\u001b[1;33m.\u001b[0m\u001b[0mSession\u001b[0m\u001b[1;33m(\u001b[0m\u001b[1;33m)\u001b[0m \u001b[1;32mas\u001b[0m \u001b[0msession\u001b[0m\u001b[1;33m:\u001b[0m\u001b[1;33m\u001b[0m\u001b[0m\n\u001b[1;32m---> 57\u001b[1;33m         \u001b[1;32mreturn\u001b[0m \u001b[0msession\u001b[0m\u001b[1;33m.\u001b[0m\u001b[0mrequest\u001b[0m\u001b[1;33m(\u001b[0m\u001b[0mmethod\u001b[0m\u001b[1;33m=\u001b[0m\u001b[0mmethod\u001b[0m\u001b[1;33m,\u001b[0m \u001b[0murl\u001b[0m\u001b[1;33m=\u001b[0m\u001b[0murl\u001b[0m\u001b[1;33m,\u001b[0m \u001b[1;33m**\u001b[0m\u001b[0mkwargs\u001b[0m\u001b[1;33m)\u001b[0m\u001b[1;33m\u001b[0m\u001b[0m\n\u001b[0m\u001b[0;32m     58\u001b[0m \u001b[1;33m\u001b[0m\u001b[0m\n\u001b[0;32m     59\u001b[0m \u001b[1;33m\u001b[0m\u001b[0m\n",
      "\u001b[1;32mC:\\Users\\KRa\\Anaconda3\\lib\\site-packages\\requests\\sessions.py\u001b[0m in \u001b[0;36mrequest\u001b[1;34m(self, method, url, params, data, headers, cookies, files, auth, timeout, allow_redirects, proxies, hooks, stream, verify, cert, json)\u001b[0m\n\u001b[0;32m    473\u001b[0m         }\n\u001b[0;32m    474\u001b[0m         \u001b[0msend_kwargs\u001b[0m\u001b[1;33m.\u001b[0m\u001b[0mupdate\u001b[0m\u001b[1;33m(\u001b[0m\u001b[0msettings\u001b[0m\u001b[1;33m)\u001b[0m\u001b[1;33m\u001b[0m\u001b[0m\n\u001b[1;32m--> 475\u001b[1;33m         \u001b[0mresp\u001b[0m \u001b[1;33m=\u001b[0m \u001b[0mself\u001b[0m\u001b[1;33m.\u001b[0m\u001b[0msend\u001b[0m\u001b[1;33m(\u001b[0m\u001b[0mprep\u001b[0m\u001b[1;33m,\u001b[0m \u001b[1;33m**\u001b[0m\u001b[0msend_kwargs\u001b[0m\u001b[1;33m)\u001b[0m\u001b[1;33m\u001b[0m\u001b[0m\n\u001b[0m\u001b[0;32m    476\u001b[0m \u001b[1;33m\u001b[0m\u001b[0m\n\u001b[0;32m    477\u001b[0m         \u001b[1;32mreturn\u001b[0m \u001b[0mresp\u001b[0m\u001b[1;33m\u001b[0m\u001b[0m\n",
      "\u001b[1;32mC:\\Users\\KRa\\Anaconda3\\lib\\site-packages\\requests\\sessions.py\u001b[0m in \u001b[0;36msend\u001b[1;34m(self, request, **kwargs)\u001b[0m\n\u001b[0;32m    583\u001b[0m \u001b[1;33m\u001b[0m\u001b[0m\n\u001b[0;32m    584\u001b[0m         \u001b[1;31m# Send the request\u001b[0m\u001b[1;33m\u001b[0m\u001b[1;33m\u001b[0m\u001b[0m\n\u001b[1;32m--> 585\u001b[1;33m         \u001b[0mr\u001b[0m \u001b[1;33m=\u001b[0m \u001b[0madapter\u001b[0m\u001b[1;33m.\u001b[0m\u001b[0msend\u001b[0m\u001b[1;33m(\u001b[0m\u001b[0mrequest\u001b[0m\u001b[1;33m,\u001b[0m \u001b[1;33m**\u001b[0m\u001b[0mkwargs\u001b[0m\u001b[1;33m)\u001b[0m\u001b[1;33m\u001b[0m\u001b[0m\n\u001b[0m\u001b[0;32m    586\u001b[0m \u001b[1;33m\u001b[0m\u001b[0m\n\u001b[0;32m    587\u001b[0m         \u001b[1;31m# Total elapsed time of the request (approximately)\u001b[0m\u001b[1;33m\u001b[0m\u001b[1;33m\u001b[0m\u001b[0m\n",
      "\u001b[1;32mC:\\Users\\KRa\\Anaconda3\\lib\\site-packages\\requests\\adapters.py\u001b[0m in \u001b[0;36msend\u001b[1;34m(self, request, stream, timeout, verify, cert, proxies)\u001b[0m\n\u001b[0;32m    401\u001b[0m                     \u001b[0mdecode_content\u001b[0m\u001b[1;33m=\u001b[0m\u001b[1;32mFalse\u001b[0m\u001b[1;33m,\u001b[0m\u001b[1;33m\u001b[0m\u001b[0m\n\u001b[0;32m    402\u001b[0m                     \u001b[0mretries\u001b[0m\u001b[1;33m=\u001b[0m\u001b[0mself\u001b[0m\u001b[1;33m.\u001b[0m\u001b[0mmax_retries\u001b[0m\u001b[1;33m,\u001b[0m\u001b[1;33m\u001b[0m\u001b[0m\n\u001b[1;32m--> 403\u001b[1;33m                     \u001b[0mtimeout\u001b[0m\u001b[1;33m=\u001b[0m\u001b[0mtimeout\u001b[0m\u001b[1;33m\u001b[0m\u001b[0m\n\u001b[0m\u001b[0;32m    404\u001b[0m                 )\n\u001b[0;32m    405\u001b[0m \u001b[1;33m\u001b[0m\u001b[0m\n",
      "\u001b[1;32mC:\\Users\\KRa\\Anaconda3\\lib\\site-packages\\requests\\packages\\urllib3\\connectionpool.py\u001b[0m in \u001b[0;36murlopen\u001b[1;34m(self, method, url, body, headers, retries, redirect, assert_same_host, timeout, pool_timeout, release_conn, chunked, **response_kw)\u001b[0m\n\u001b[0;32m    576\u001b[0m                                                   \u001b[0mtimeout\u001b[0m\u001b[1;33m=\u001b[0m\u001b[0mtimeout_obj\u001b[0m\u001b[1;33m,\u001b[0m\u001b[1;33m\u001b[0m\u001b[0m\n\u001b[0;32m    577\u001b[0m                                                   \u001b[0mbody\u001b[0m\u001b[1;33m=\u001b[0m\u001b[0mbody\u001b[0m\u001b[1;33m,\u001b[0m \u001b[0mheaders\u001b[0m\u001b[1;33m=\u001b[0m\u001b[0mheaders\u001b[0m\u001b[1;33m,\u001b[0m\u001b[1;33m\u001b[0m\u001b[0m\n\u001b[1;32m--> 578\u001b[1;33m                                                   chunked=chunked)\n\u001b[0m\u001b[0;32m    579\u001b[0m \u001b[1;33m\u001b[0m\u001b[0m\n\u001b[0;32m    580\u001b[0m             \u001b[1;31m# If we're going to release the connection in ``finally:``, then\u001b[0m\u001b[1;33m\u001b[0m\u001b[1;33m\u001b[0m\u001b[0m\n",
      "\u001b[1;32mC:\\Users\\KRa\\Anaconda3\\lib\\site-packages\\requests\\packages\\urllib3\\connectionpool.py\u001b[0m in \u001b[0;36m_make_request\u001b[1;34m(self, conn, method, url, timeout, chunked, **httplib_request_kw)\u001b[0m\n\u001b[0;32m    385\u001b[0m                 \u001b[0mhttplib_response\u001b[0m \u001b[1;33m=\u001b[0m \u001b[0mconn\u001b[0m\u001b[1;33m.\u001b[0m\u001b[0mgetresponse\u001b[0m\u001b[1;33m(\u001b[0m\u001b[0mbuffering\u001b[0m\u001b[1;33m=\u001b[0m\u001b[1;32mTrue\u001b[0m\u001b[1;33m)\u001b[0m\u001b[1;33m\u001b[0m\u001b[0m\n\u001b[0;32m    386\u001b[0m             \u001b[1;32mexcept\u001b[0m \u001b[0mTypeError\u001b[0m\u001b[1;33m:\u001b[0m  \u001b[1;31m# Python 2.6 and older\u001b[0m\u001b[1;33m\u001b[0m\u001b[0m\n\u001b[1;32m--> 387\u001b[1;33m                 \u001b[0mhttplib_response\u001b[0m \u001b[1;33m=\u001b[0m \u001b[0mconn\u001b[0m\u001b[1;33m.\u001b[0m\u001b[0mgetresponse\u001b[0m\u001b[1;33m(\u001b[0m\u001b[1;33m)\u001b[0m\u001b[1;33m\u001b[0m\u001b[0m\n\u001b[0m\u001b[0;32m    388\u001b[0m         \u001b[1;32mexcept\u001b[0m \u001b[1;33m(\u001b[0m\u001b[0mSocketTimeout\u001b[0m\u001b[1;33m,\u001b[0m \u001b[0mBaseSSLError\u001b[0m\u001b[1;33m,\u001b[0m \u001b[0mSocketError\u001b[0m\u001b[1;33m)\u001b[0m \u001b[1;32mas\u001b[0m \u001b[0me\u001b[0m\u001b[1;33m:\u001b[0m\u001b[1;33m\u001b[0m\u001b[0m\n\u001b[0;32m    389\u001b[0m             \u001b[0mself\u001b[0m\u001b[1;33m.\u001b[0m\u001b[0m_raise_timeout\u001b[0m\u001b[1;33m(\u001b[0m\u001b[0merr\u001b[0m\u001b[1;33m=\u001b[0m\u001b[0me\u001b[0m\u001b[1;33m,\u001b[0m \u001b[0murl\u001b[0m\u001b[1;33m=\u001b[0m\u001b[0murl\u001b[0m\u001b[1;33m,\u001b[0m \u001b[0mtimeout_value\u001b[0m\u001b[1;33m=\u001b[0m\u001b[0mread_timeout\u001b[0m\u001b[1;33m)\u001b[0m\u001b[1;33m\u001b[0m\u001b[0m\n",
      "\u001b[1;32mC:\\Users\\KRa\\Anaconda3\\lib\\http\\client.py\u001b[0m in \u001b[0;36mgetresponse\u001b[1;34m(self)\u001b[0m\n\u001b[0;32m   1195\u001b[0m         \u001b[1;32mtry\u001b[0m\u001b[1;33m:\u001b[0m\u001b[1;33m\u001b[0m\u001b[0m\n\u001b[0;32m   1196\u001b[0m             \u001b[1;32mtry\u001b[0m\u001b[1;33m:\u001b[0m\u001b[1;33m\u001b[0m\u001b[0m\n\u001b[1;32m-> 1197\u001b[1;33m                 \u001b[0mresponse\u001b[0m\u001b[1;33m.\u001b[0m\u001b[0mbegin\u001b[0m\u001b[1;33m(\u001b[0m\u001b[1;33m)\u001b[0m\u001b[1;33m\u001b[0m\u001b[0m\n\u001b[0m\u001b[0;32m   1198\u001b[0m             \u001b[1;32mexcept\u001b[0m \u001b[0mConnectionError\u001b[0m\u001b[1;33m:\u001b[0m\u001b[1;33m\u001b[0m\u001b[0m\n\u001b[0;32m   1199\u001b[0m                 \u001b[0mself\u001b[0m\u001b[1;33m.\u001b[0m\u001b[0mclose\u001b[0m\u001b[1;33m(\u001b[0m\u001b[1;33m)\u001b[0m\u001b[1;33m\u001b[0m\u001b[0m\n",
      "\u001b[1;32mC:\\Users\\KRa\\Anaconda3\\lib\\http\\client.py\u001b[0m in \u001b[0;36mbegin\u001b[1;34m(self)\u001b[0m\n\u001b[0;32m    295\u001b[0m         \u001b[1;31m# read until we get a non-100 response\u001b[0m\u001b[1;33m\u001b[0m\u001b[1;33m\u001b[0m\u001b[0m\n\u001b[0;32m    296\u001b[0m         \u001b[1;32mwhile\u001b[0m \u001b[1;32mTrue\u001b[0m\u001b[1;33m:\u001b[0m\u001b[1;33m\u001b[0m\u001b[0m\n\u001b[1;32m--> 297\u001b[1;33m             \u001b[0mversion\u001b[0m\u001b[1;33m,\u001b[0m \u001b[0mstatus\u001b[0m\u001b[1;33m,\u001b[0m \u001b[0mreason\u001b[0m \u001b[1;33m=\u001b[0m \u001b[0mself\u001b[0m\u001b[1;33m.\u001b[0m\u001b[0m_read_status\u001b[0m\u001b[1;33m(\u001b[0m\u001b[1;33m)\u001b[0m\u001b[1;33m\u001b[0m\u001b[0m\n\u001b[0m\u001b[0;32m    298\u001b[0m             \u001b[1;32mif\u001b[0m \u001b[0mstatus\u001b[0m \u001b[1;33m!=\u001b[0m \u001b[0mCONTINUE\u001b[0m\u001b[1;33m:\u001b[0m\u001b[1;33m\u001b[0m\u001b[0m\n\u001b[0;32m    299\u001b[0m                 \u001b[1;32mbreak\u001b[0m\u001b[1;33m\u001b[0m\u001b[0m\n",
      "\u001b[1;32mC:\\Users\\KRa\\Anaconda3\\lib\\http\\client.py\u001b[0m in \u001b[0;36m_read_status\u001b[1;34m(self)\u001b[0m\n\u001b[0;32m    256\u001b[0m \u001b[1;33m\u001b[0m\u001b[0m\n\u001b[0;32m    257\u001b[0m     \u001b[1;32mdef\u001b[0m \u001b[0m_read_status\u001b[0m\u001b[1;33m(\u001b[0m\u001b[0mself\u001b[0m\u001b[1;33m)\u001b[0m\u001b[1;33m:\u001b[0m\u001b[1;33m\u001b[0m\u001b[0m\n\u001b[1;32m--> 258\u001b[1;33m         \u001b[0mline\u001b[0m \u001b[1;33m=\u001b[0m \u001b[0mstr\u001b[0m\u001b[1;33m(\u001b[0m\u001b[0mself\u001b[0m\u001b[1;33m.\u001b[0m\u001b[0mfp\u001b[0m\u001b[1;33m.\u001b[0m\u001b[0mreadline\u001b[0m\u001b[1;33m(\u001b[0m\u001b[0m_MAXLINE\u001b[0m \u001b[1;33m+\u001b[0m \u001b[1;36m1\u001b[0m\u001b[1;33m)\u001b[0m\u001b[1;33m,\u001b[0m \u001b[1;34m\"iso-8859-1\"\u001b[0m\u001b[1;33m)\u001b[0m\u001b[1;33m\u001b[0m\u001b[0m\n\u001b[0m\u001b[0;32m    259\u001b[0m         \u001b[1;32mif\u001b[0m \u001b[0mlen\u001b[0m\u001b[1;33m(\u001b[0m\u001b[0mline\u001b[0m\u001b[1;33m)\u001b[0m \u001b[1;33m>\u001b[0m \u001b[0m_MAXLINE\u001b[0m\u001b[1;33m:\u001b[0m\u001b[1;33m\u001b[0m\u001b[0m\n\u001b[0;32m    260\u001b[0m             \u001b[1;32mraise\u001b[0m \u001b[0mLineTooLong\u001b[0m\u001b[1;33m(\u001b[0m\u001b[1;34m\"status line\"\u001b[0m\u001b[1;33m)\u001b[0m\u001b[1;33m\u001b[0m\u001b[0m\n",
      "\u001b[1;32mC:\\Users\\KRa\\Anaconda3\\lib\\socket.py\u001b[0m in \u001b[0;36mreadinto\u001b[1;34m(self, b)\u001b[0m\n\u001b[0;32m    573\u001b[0m         \u001b[1;32mwhile\u001b[0m \u001b[1;32mTrue\u001b[0m\u001b[1;33m:\u001b[0m\u001b[1;33m\u001b[0m\u001b[0m\n\u001b[0;32m    574\u001b[0m             \u001b[1;32mtry\u001b[0m\u001b[1;33m:\u001b[0m\u001b[1;33m\u001b[0m\u001b[0m\n\u001b[1;32m--> 575\u001b[1;33m                 \u001b[1;32mreturn\u001b[0m \u001b[0mself\u001b[0m\u001b[1;33m.\u001b[0m\u001b[0m_sock\u001b[0m\u001b[1;33m.\u001b[0m\u001b[0mrecv_into\u001b[0m\u001b[1;33m(\u001b[0m\u001b[0mb\u001b[0m\u001b[1;33m)\u001b[0m\u001b[1;33m\u001b[0m\u001b[0m\n\u001b[0m\u001b[0;32m    576\u001b[0m             \u001b[1;32mexcept\u001b[0m \u001b[0mtimeout\u001b[0m\u001b[1;33m:\u001b[0m\u001b[1;33m\u001b[0m\u001b[0m\n\u001b[0;32m    577\u001b[0m                 \u001b[0mself\u001b[0m\u001b[1;33m.\u001b[0m\u001b[0m_timeout_occurred\u001b[0m \u001b[1;33m=\u001b[0m \u001b[1;32mTrue\u001b[0m\u001b[1;33m\u001b[0m\u001b[0m\n",
      "\u001b[1;31mKeyboardInterrupt\u001b[0m: "
     ]
    }
   ],
   "source": [
    "\n",
    "# create file path for the download\n",
    "\n",
    "\n",
    "\n",
    "# download data (one file per day and dataset) with links to local directory\n",
    "def download_and_save_file(url, file_path):\n",
    "    counter = 0\n",
    "    # NOTE the stream=True parameter\n",
    "    r = requests.get(url, stream=True)\n",
    "    with open(file_path, 'wb') as f:\n",
    "        for chunk in r.iter_content(chunk_size=1024): \n",
    "            if chunk: # filter out keep-alive new chunks\n",
    "                f.write(chunk)\n",
    "    return r.status_code\n",
    "    \n",
    "def estimate_time(number_of_url):\n",
    "    seconds = number_of_url * 7\n",
    "    time = str(datetime.timedelta(seconds=666))\n",
    "    return time\n",
    "    \n",
    "    \n",
    "print('Downloading files')\n",
    "counter = 0\n",
    "for item in generated_URL:\n",
    "    query, _, file_path = item\n",
    "    counter += 1\n",
    "    if (counter % 30) == 0:\n",
    "        print('Downloading files - Files left: ' +  str((len(generated_URL) - counter)))\n",
    "    %time download_and_save_file(query, file_path)\n",
    "    \n",
    "\n",
    "\n"
   ]
  },
  {
   "cell_type": "markdown",
   "metadata": {},
   "source": [
    "---\n",
    "# Setting up dataframe(s)"
   ]
  },
  {
   "cell_type": "code",
   "execution_count": 18,
   "metadata": {
    "collapsed": false
   },
   "outputs": [
    {
     "name": "stdout",
     "output_type": "stream",
     "text": [
      "download_testing\\*.nc4\n"
     ]
    },
    {
     "data": {
      "text/plain": [
       "<xarray.Dataset>\n",
       "Dimensions:  (lat: 1, lon: 1, time: 24)\n",
       "Coordinates:\n",
       "  * lat      (lat) int64 0\n",
       "  * lon      (lon) int64 0\n",
       "  * time     (time) int64 0 1 2 3 4 5 6 7 8 9 10 11 12 13 14 15 16 17 18 19 ...\n",
       "Data variables:\n",
       "    U2M      (time, lat, lon) float64 2.023 2.007 1.93 1.82 1.778 1.787 ...\n",
       "Attributes:\n",
       "    HDF5_GLOBAL.History: Original file generated: Mon Dec  8 12:24:17 2014 GMT\n",
       "    HDF5_GLOBAL.Comment: GMAO filename: d5124_m2_jan10.tavg1_2d_slv_Nx.20140101.nc4\n",
       "    HDF5_GLOBAL.Filename: MERRA2_400.tavg1_2d_slv_Nx.20140101.nc4\n",
       "    HDF5_GLOBAL.Conventions: CF-1\n",
       "    HDF5_GLOBAL.Institution: NASA Global Modeling and Assimilation Office\n",
       "    HDF5_GLOBAL.References: http://gmao.gsfc.nasa.gov\n",
       "    HDF5_GLOBAL.Format: NetCDF-4/HDF-5\n",
       "    HDF5_GLOBAL.SpatialCoverage: global\n",
       "    HDF5_GLOBAL.VersionID: 5.12.4\n",
       "    HDF5_GLOBAL.TemporalRange: 1980-01-01 -> 2016-12-31\n",
       "    HDF5_GLOBAL.identifier_product_doi_authority: http://dx.doi.org/\n",
       "    HDF5_GLOBAL.ShortName: M2T1NXSLV\n",
       "    HDF5_GLOBAL.GranuleID: MERRA2_400.tavg1_2d_slv_Nx.20140101.nc4\n",
       "    HDF5_GLOBAL.ProductionDateTime: Original file generated: Mon Dec  8 12:24:17 2014 GMT\n",
       "    HDF5_GLOBAL.LongName: MERRA2 tavg1_2d_slv_Nx: 2d,1-Hourly,Time-Averaged,Single-Level,Assimilation,Single-Level Diagnostics\n",
       "    HDF5_GLOBAL.Title: MERRA2 tavg1_2d_slv_Nx: 2d,1-Hourly,Time-Averaged,Single-Level,Assimilation,Single-Level Diagnostics\n",
       "    HDF5_GLOBAL.SouthernmostLatitude: -90.0\n",
       "    HDF5_GLOBAL.NorthernmostLatitude: 90.0\n",
       "    HDF5_GLOBAL.WesternmostLongitude: -180.0\n",
       "    HDF5_GLOBAL.EasternmostLongitude: 179.375\n",
       "    HDF5_GLOBAL.LatitudeResolution: 0.5\n",
       "    HDF5_GLOBAL.LongitudeResolution: 0.625\n",
       "    HDF5_GLOBAL.DataResolution: 0.5 x 0.625\n",
       "    HDF5_GLOBAL.Source: CVS tag: GEOSadas-5_12_4\n",
       "    HDF5_GLOBAL.Contact: http://gmao.gsfc.nasa.gov\n",
       "    HDF5_GLOBAL.identifier_product_doi: 10.5067/VJAFPLI1CSIV\n",
       "    HDF5_GLOBAL.RangeBeginningDate: 2014-01-01\n",
       "    HDF5_GLOBAL.RangeBeginningTime: 00:00:00.000000\n",
       "    HDF5_GLOBAL.RangeEndingDate: 2014-01-01\n",
       "    HDF5_GLOBAL.RangeEndingTime: 23:59:59.000000"
      ]
     },
     "execution_count": 18,
     "metadata": {},
     "output_type": "execute_result"
    }
   ],
   "source": [
    "# create dataframe(s)\n",
    "file_path = os.path.join('download_testing', '*.nc4')\n",
    "print(file_path)\n",
    "ds = xr.open_dataset('download_testing\\\\MERRA2_400.tavg1_2d_slv_Nx.20140101.nc4')\n",
    "ds"
   ]
  },
  {
   "cell_type": "markdown",
   "metadata": {
    "collapsed": true
   },
   "source": [
    "## Concatenating/combining individual files\n",
    "Combine individual (daily) dataset files to one single dataframe"
   ]
  },
  {
   "cell_type": "code",
   "execution_count": null,
   "metadata": {
    "collapsed": true
   },
   "outputs": [],
   "source": [
    "# load/concatenate all files -> one dataframe per daily dataset"
   ]
  },
  {
   "cell_type": "code",
   "execution_count": null,
   "metadata": {
    "collapsed": true
   },
   "outputs": [],
   "source": [
    "# combine all individual dataframes to one dataframe in total"
   ]
  },
  {
   "cell_type": "markdown",
   "metadata": {},
   "source": [
    "## First look at the final data frame structure and format"
   ]
  },
  {
   "cell_type": "code",
   "execution_count": null,
   "metadata": {
    "collapsed": false
   },
   "outputs": [],
   "source": [
    "# DataFrame.info()"
   ]
  },
  {
   "cell_type": "markdown",
   "metadata": {},
   "source": [
    "## Saving dataframe\n",
    "Save the final dataframe locally"
   ]
  },
  {
   "cell_type": "code",
   "execution_count": null,
   "metadata": {
    "collapsed": true
   },
   "outputs": [],
   "source": []
  },
  {
   "cell_type": "markdown",
   "metadata": {},
   "source": [
    "---\n",
    "The further processing of the data frame and the compiling of the final data package can be found in [Part3](weather_data_3_processing.ipynb) of this script."
   ]
  },
  {
   "cell_type": "code",
   "execution_count": null,
   "metadata": {
    "collapsed": true
   },
   "outputs": [],
   "source": []
  }
 ],
 "metadata": {
  "anaconda-cloud": {},
  "kernelspec": {
   "display_name": "Python [Root]",
   "language": "python",
   "name": "Python [Root]"
  },
  "language_info": {
   "codemirror_mode": {
    "name": "ipython",
    "version": 3
   },
   "file_extension": ".py",
   "mimetype": "text/x-python",
   "name": "python",
   "nbconvert_exporter": "python",
   "pygments_lexer": "ipython3",
   "version": "3.5.2"
  },
  "toc": {
   "toc_cell": true,
   "toc_number_sections": true,
   "toc_threshold": 6,
   "toc_window_display": false
  }
 },
 "nbformat": 4,
 "nbformat_minor": 0
}

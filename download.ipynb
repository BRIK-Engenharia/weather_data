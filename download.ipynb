{
 "cells": [
  {
   "cell_type": "markdown",
   "metadata": {},
   "source": [
    "<div style=\"width:100%; background-color: #D9EDF7; border: 1px solid #CFCFCF; text-align: left; padding: 10px;\">\n",
    "      <b>Weather Data: Renewables.ninja download notebook</b>\n",
    "      <ul>\n",
    "        <li><a href=\"main.ipynb\">Main notebook</a></li>\n",
    "        <li>Download weather data from Renewables.ninja</li>\n",
    "        <li><a href=\"processing.ipynb\">Process weather data from Renewables.ninja</a></li>\n",
    "        <li><a href=\"download_merra2.ipynb\">Example script to download arbitrary MERRA-2 data</a></li>\n",
    "      </ul>\n",
    "      <br>This Notebook is part of the <a href=\"http://data.open-power-system-data.org/weather_data\">Weather Data Package</a> of <a href=\"http://open-power-system-data.org\">Open Power System Data</a>.\n",
    "</div>"
   ]
  },
  {
   "cell_type": "code",
   "execution_count": null,
   "metadata": {},
   "outputs": [],
   "source": [
    "import os\n",
    "import shutil\n",
    "import zipfile\n",
    "\n",
    "import pandas as pd\n",
    "import requests"
   ]
  },
  {
   "cell_type": "code",
   "execution_count": null,
   "metadata": {},
   "outputs": [],
   "source": [
    "dir_other = './downloads/other'\n",
    "dir_countries = './downloads/countries'\n",
    "dir_nuts = './downloads/nuts'"
   ]
  },
  {
   "cell_type": "markdown",
   "metadata": {},
   "source": [
    "---"
   ]
  },
  {
   "cell_type": "code",
   "execution_count": null,
   "metadata": {},
   "outputs": [],
   "source": [
    "def save_to_disk(url, path):\n",
    "    response = requests.get(url, stream=True)\n",
    "    \n",
    "    with open(path, 'wb') as f:\n",
    "        shutil.copyfileobj(response.raw, f)\n",
    "\n",
    "    del response"
   ]
  },
  {
   "cell_type": "code",
   "execution_count": null,
   "metadata": {},
   "outputs": [],
   "source": [
    "for d in [dir_other, dir_countries, dir_nuts]:\n",
    "    os.makedirs(d, exist_ok=True)"
   ]
  },
  {
   "cell_type": "code",
   "execution_count": null,
   "metadata": {},
   "outputs": [],
   "source": [
    "base_url = 'https://www.renewables.ninja/country_downloads/'\n",
    "country_url_template = '{country}/ninja_weather_country_{country}_merra-2_population_weighted.csv'\n",
    "countries = ['AT', 'BE', 'CH', 'CZ', 'DK', 'FR', 'LU', 'NL', 'PL']\n",
    "\n",
    "country_urls = [base_url + country_url_template.format(country=i) for i in countries]\n",
    "\n",
    "for u in country_urls:\n",
    "    save_to_disk(u, os.path.join(dir_countries, u.split('/')[-1]))\n",
    "\n",
    "    \n",
    "# FIXME: wind data not yet in the publicly available files\n",
    "    \n",
    "# FIXME: NUTS-2 weather data not yet publicly available\n",
    "# nuts_url_template = '{country}/ninja_weather_{variable}_country_{country}_merra-2_nuts-2_population_weighted.csv'"
   ]
  },
  {
   "cell_type": "code",
   "execution_count": null,
   "metadata": {},
   "outputs": [],
   "source": [
    "# NUTS geodata\n",
    "# http://ec.europa.eu/eurostat/web/gisco/geodata/reference-data/administrative-units-statistical-units/nuts\n",
    "\n",
    "save_to_disk(\n",
    "    'http://ec.europa.eu/eurostat/cache/GISCO/distribution/v2/nuts/download/ref-nuts-2016-20m.shp.zip',\n",
    "    os.path.join(dir_other, 'ref-nuts-2016-20m.shp.zip')\n",
    ")\n",
    "\n",
    "with zipfile.ZipFile(os.path.join(dir_other, 'ref-nuts-2016-20m.shp.zip'), 'r') as f:\n",
    "    f.extractall(dir_other)"
   ]
  }
 ],
 "metadata": {
  "kernelspec": {
   "display_name": "Python 3",
   "language": "python",
   "name": "python3"
  },
  "language_info": {
   "codemirror_mode": {
    "name": "ipython",
    "version": 3
   },
   "file_extension": ".py",
   "mimetype": "text/x-python",
   "name": "python",
   "nbconvert_exporter": "python",
   "pygments_lexer": "ipython3",
   "version": "3.6.4"
  }
 },
 "nbformat": 4,
 "nbformat_minor": 2
}
